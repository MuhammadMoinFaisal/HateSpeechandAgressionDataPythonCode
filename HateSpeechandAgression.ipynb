{
  "cells": [
    {
      "cell_type": "markdown",
      "metadata": {
        "id": "9x2b1pbmzPW7"
      },
      "source": [
        "## **Import Libraries**"
      ]
    },
    {
      "cell_type": "code",
      "execution_count": 223,
      "metadata": {
        "id": "AwSEqDmEyH1H"
      },
      "outputs": [],
      "source": [
        "import pandas as pd"
      ]
    },
    {
      "cell_type": "code",
      "execution_count": 224,
      "metadata": {
        "id": "cA4KrUVAzThY"
      },
      "outputs": [],
      "source": [
        "import numpy as np"
      ]
    },
    {
      "cell_type": "code",
      "execution_count": 225,
      "metadata": {
        "id": "-KrriLexzVOf"
      },
      "outputs": [],
      "source": [
        "from sklearn.model_selection import train_test_split"
      ]
    },
    {
      "cell_type": "code",
      "execution_count": 226,
      "metadata": {
        "id": "iPwPxQEUzbwg"
      },
      "outputs": [],
      "source": [
        "import seaborn as sns "
      ]
    },
    {
      "cell_type": "code",
      "execution_count": 227,
      "metadata": {
        "id": "6ZnDxHQszepG"
      },
      "outputs": [],
      "source": [
        "import matplotlib.pyplot as plt"
      ]
    },
    {
      "cell_type": "code",
      "execution_count": 228,
      "metadata": {
        "id": "92M0xfoH1SAr"
      },
      "outputs": [],
      "source": [
        "from sklearn import preprocessing"
      ]
    },
    {
      "cell_type": "code",
      "execution_count": 229,
      "metadata": {
        "id": "Lcf2D0xe4azG"
      },
      "outputs": [],
      "source": [
        "import tensorflow as tf"
      ]
    },
    {
      "cell_type": "code",
      "execution_count": 230,
      "metadata": {
        "id": "y7Q-7Hy83q-3"
      },
      "outputs": [],
      "source": [
        "from keras.preprocessing.text import Tokenizer"
      ]
    },
    {
      "cell_type": "code",
      "execution_count": 231,
      "metadata": {
        "id": "s4QB31nM3rEZ"
      },
      "outputs": [],
      "source": [
        "from sklearn.feature_extraction.text import CountVectorizer"
      ]
    },
    {
      "cell_type": "code",
      "execution_count": 232,
      "metadata": {
        "id": "CaBUWXcozbxO"
      },
      "outputs": [],
      "source": [
        "from keras.models import Sequential"
      ]
    },
    {
      "cell_type": "code",
      "execution_count": 233,
      "metadata": {
        "id": "w2bV3vFe34WN"
      },
      "outputs": [],
      "source": [
        "from sklearn.feature_extraction.text import TfidfVectorizer"
      ]
    },
    {
      "cell_type": "code",
      "execution_count": 234,
      "metadata": {
        "id": "clcXIz1qDIJF"
      },
      "outputs": [],
      "source": [
        "import nltk\n",
        "# Importing StopWords, to remove stopwords from the dataset\n",
        "from nltk.corpus import stopwords"
      ]
    },
    {
      "cell_type": "code",
      "execution_count": 235,
      "metadata": {
        "id": "h7mLCs82Qj82"
      },
      "outputs": [],
      "source": [
        "from sklearn.ensemble import RandomForestClassifier"
      ]
    },
    {
      "cell_type": "code",
      "execution_count": 236,
      "metadata": {
        "id": "qyVzCjrpYVdp"
      },
      "outputs": [],
      "source": [
        "# Decision Tree Classifier is the Machine Learning Model \n",
        "from sklearn.tree import DecisionTreeClassifier"
      ]
    },
    {
      "cell_type": "code",
      "execution_count": 237,
      "metadata": {
        "id": "_AZHVFU_R6Sq"
      },
      "outputs": [],
      "source": [
        "# To implement the Naive Bayes Classifier\n",
        "from sklearn.naive_bayes import MultinomialNB"
      ]
    },
    {
      "cell_type": "code",
      "execution_count": 238,
      "metadata": {
        "colab": {
          "base_uri": "https://localhost:8080/"
        },
        "id": "EnSO6TtUTqkT",
        "outputId": "fcf924bc-89d8-4481-9133-d516d1af96c9"
      },
      "outputs": [
        {
          "output_type": "stream",
          "name": "stdout",
          "text": [
            "Looking in indexes: https://pypi.org/simple, https://us-python.pkg.dev/colab-wheels/public/simple/\n",
            "Requirement already satisfied: catboost in /usr/local/lib/python3.7/dist-packages (1.0.6)\n",
            "Requirement already satisfied: scipy in /usr/local/lib/python3.7/dist-packages (from catboost) (1.7.3)\n",
            "Requirement already satisfied: plotly in /usr/local/lib/python3.7/dist-packages (from catboost) (5.5.0)\n",
            "Requirement already satisfied: matplotlib in /usr/local/lib/python3.7/dist-packages (from catboost) (3.2.2)\n",
            "Requirement already satisfied: numpy>=1.16.0 in /usr/local/lib/python3.7/dist-packages (from catboost) (1.21.6)\n",
            "Requirement already satisfied: pandas>=0.24.0 in /usr/local/lib/python3.7/dist-packages (from catboost) (1.3.5)\n",
            "Requirement already satisfied: graphviz in /usr/local/lib/python3.7/dist-packages (from catboost) (0.10.1)\n",
            "Requirement already satisfied: six in /usr/local/lib/python3.7/dist-packages (from catboost) (1.15.0)\n",
            "Requirement already satisfied: python-dateutil>=2.7.3 in /usr/local/lib/python3.7/dist-packages (from pandas>=0.24.0->catboost) (2.8.2)\n",
            "Requirement already satisfied: pytz>=2017.3 in /usr/local/lib/python3.7/dist-packages (from pandas>=0.24.0->catboost) (2022.1)\n",
            "Requirement already satisfied: pyparsing!=2.0.4,!=2.1.2,!=2.1.6,>=2.0.1 in /usr/local/lib/python3.7/dist-packages (from matplotlib->catboost) (3.0.9)\n",
            "Requirement already satisfied: kiwisolver>=1.0.1 in /usr/local/lib/python3.7/dist-packages (from matplotlib->catboost) (1.4.3)\n",
            "Requirement already satisfied: cycler>=0.10 in /usr/local/lib/python3.7/dist-packages (from matplotlib->catboost) (0.11.0)\n",
            "Requirement already satisfied: typing-extensions in /usr/local/lib/python3.7/dist-packages (from kiwisolver>=1.0.1->matplotlib->catboost) (4.1.1)\n",
            "Requirement already satisfied: tenacity>=6.2.0 in /usr/local/lib/python3.7/dist-packages (from plotly->catboost) (8.0.1)\n"
          ]
        }
      ],
      "source": [
        "!pip install catboost"
      ]
    },
    {
      "cell_type": "code",
      "execution_count": 239,
      "metadata": {
        "id": "lvce1kuCTomQ"
      },
      "outputs": [],
      "source": [
        "from catboost import CatBoostClassifier"
      ]
    },
    {
      "cell_type": "code",
      "execution_count": 240,
      "metadata": {
        "id": "-K5MoJkUQ08D"
      },
      "outputs": [],
      "source": [
        "# Classification Report shows us the recall score, percision and accuracy score\n",
        "from sklearn.metrics import classification_report"
      ]
    },
    {
      "cell_type": "code",
      "execution_count": 241,
      "metadata": {
        "id": "4JZ02veLQ1CV"
      },
      "outputs": [],
      "source": [
        "# Accuracy Score\n",
        "from sklearn.metrics import accuracy_score"
      ]
    },
    {
      "cell_type": "code",
      "execution_count": 242,
      "metadata": {
        "id": "o0CP5P1FSimD"
      },
      "outputs": [],
      "source": [
        "from sklearn.metrics import roc_curve, roc_auc_score"
      ]
    },
    {
      "cell_type": "code",
      "execution_count": 243,
      "metadata": {
        "id": "aeHcB_OySqcz"
      },
      "outputs": [],
      "source": [
        "from sklearn.metrics import confusion_matrix, f1_score"
      ]
    },
    {
      "cell_type": "code",
      "execution_count": 244,
      "metadata": {
        "id": "oi2U_VZEbF0j"
      },
      "outputs": [],
      "source": [
        "# Paddding the Sequences to have the same length\n",
        "from keras.preprocessing.sequence import pad_sequences"
      ]
    },
    {
      "cell_type": "code",
      "execution_count": 245,
      "metadata": {
        "id": "7wM4QyLrbbTD"
      },
      "outputs": [],
      "source": [
        "# From Keras Layers importing the LSTM, CONV1D, Dense, Max Pooling and Dropout Layers\n",
        "from keras.layers import LSTM,Bidirectional, GRU, SimpleRNN, Activation, Dropout, Dense, Input, Conv1D, MaxPooling1D, GlobalMaxPooling1D, Flatten, SpatialDropout1D"
      ]
    },
    {
      "cell_type": "code",
      "execution_count": 246,
      "metadata": {
        "id": "O6JZKC4bbd6V"
      },
      "outputs": [],
      "source": [
        "# Importing the Embedding Layer from keras layers\n",
        "from keras.layers.embeddings import Embedding"
      ]
    },
    {
      "cell_type": "code",
      "execution_count": 247,
      "metadata": {
        "id": "NzSwDzDqAP9g"
      },
      "outputs": [],
      "source": [
        "from sklearn.model_selection import RandomizedSearchCV\n"
      ]
    },
    {
      "cell_type": "markdown",
      "metadata": {
        "id": "xIFemm1pz2No"
      },
      "source": [
        "## **Load the Dataset**"
      ]
    },
    {
      "cell_type": "code",
      "execution_count": 248,
      "metadata": {
        "id": "KXWfwRDXzhJQ"
      },
      "outputs": [],
      "source": [
        "data = pd.read_csv(\"/content/2020-12-31-DynamicallyGeneratedHateDataset-entries-v0.1.csv\")"
      ]
    },
    {
      "cell_type": "code",
      "execution_count": 249,
      "metadata": {
        "colab": {
          "base_uri": "https://localhost:8080/",
          "height": 406
        },
        "id": "Wir5EXwj0NCv",
        "outputId": "3b3f7b7b-c1b4-4480-e84d-d02a21bd0b9d"
      },
      "outputs": [
        {
          "output_type": "execute_result",
          "data": {
            "text/plain": [
              "   Unnamed: 0     id                                               text label  \\\n",
              "0           1  10000  It should be legal for a husband to rape his wife  hate   \n",
              "1           2  10001                            dalits are lowlife scum  hate   \n",
              "2           3  10002                                dalits are lowlives  hate   \n",
              "3           4  10003  It was a better world when women dare not ques...  hate   \n",
              "4           5  10004  I don't work this hard so that those immigrant...  hate   \n",
              "\n",
              "       type model_wrong  db.model_preds           status round  split  \\\n",
              "0  notgiven        True         0.97457  dynabench entry     1  train   \n",
              "1  notgiven       False         0.08233  dynabench entry     1   test   \n",
              "2  notgiven        True         0.92319  dynabench entry     1  train   \n",
              "3  notgiven        True         0.99006  dynabench entry     1   test   \n",
              "4  notgiven        True         0.98836  dynabench entry     1  train   \n",
              "\n",
              "    annotator  \n",
              "0  gnzuctwed3  \n",
              "1  cagnluiznm  \n",
              "2  cagnluiznm  \n",
              "3  gnzuctwed3  \n",
              "4  cagnluiznm  "
            ],
            "text/html": [
              "\n",
              "  <div id=\"df-e9c7982e-3c11-43a8-b0e8-ac3b330fbb84\">\n",
              "    <div class=\"colab-df-container\">\n",
              "      <div>\n",
              "<style scoped>\n",
              "    .dataframe tbody tr th:only-of-type {\n",
              "        vertical-align: middle;\n",
              "    }\n",
              "\n",
              "    .dataframe tbody tr th {\n",
              "        vertical-align: top;\n",
              "    }\n",
              "\n",
              "    .dataframe thead th {\n",
              "        text-align: right;\n",
              "    }\n",
              "</style>\n",
              "<table border=\"1\" class=\"dataframe\">\n",
              "  <thead>\n",
              "    <tr style=\"text-align: right;\">\n",
              "      <th></th>\n",
              "      <th>Unnamed: 0</th>\n",
              "      <th>id</th>\n",
              "      <th>text</th>\n",
              "      <th>label</th>\n",
              "      <th>type</th>\n",
              "      <th>model_wrong</th>\n",
              "      <th>db.model_preds</th>\n",
              "      <th>status</th>\n",
              "      <th>round</th>\n",
              "      <th>split</th>\n",
              "      <th>annotator</th>\n",
              "    </tr>\n",
              "  </thead>\n",
              "  <tbody>\n",
              "    <tr>\n",
              "      <th>0</th>\n",
              "      <td>1</td>\n",
              "      <td>10000</td>\n",
              "      <td>It should be legal for a husband to rape his wife</td>\n",
              "      <td>hate</td>\n",
              "      <td>notgiven</td>\n",
              "      <td>True</td>\n",
              "      <td>0.97457</td>\n",
              "      <td>dynabench entry</td>\n",
              "      <td>1</td>\n",
              "      <td>train</td>\n",
              "      <td>gnzuctwed3</td>\n",
              "    </tr>\n",
              "    <tr>\n",
              "      <th>1</th>\n",
              "      <td>2</td>\n",
              "      <td>10001</td>\n",
              "      <td>dalits are lowlife scum</td>\n",
              "      <td>hate</td>\n",
              "      <td>notgiven</td>\n",
              "      <td>False</td>\n",
              "      <td>0.08233</td>\n",
              "      <td>dynabench entry</td>\n",
              "      <td>1</td>\n",
              "      <td>test</td>\n",
              "      <td>cagnluiznm</td>\n",
              "    </tr>\n",
              "    <tr>\n",
              "      <th>2</th>\n",
              "      <td>3</td>\n",
              "      <td>10002</td>\n",
              "      <td>dalits are lowlives</td>\n",
              "      <td>hate</td>\n",
              "      <td>notgiven</td>\n",
              "      <td>True</td>\n",
              "      <td>0.92319</td>\n",
              "      <td>dynabench entry</td>\n",
              "      <td>1</td>\n",
              "      <td>train</td>\n",
              "      <td>cagnluiznm</td>\n",
              "    </tr>\n",
              "    <tr>\n",
              "      <th>3</th>\n",
              "      <td>4</td>\n",
              "      <td>10003</td>\n",
              "      <td>It was a better world when women dare not ques...</td>\n",
              "      <td>hate</td>\n",
              "      <td>notgiven</td>\n",
              "      <td>True</td>\n",
              "      <td>0.99006</td>\n",
              "      <td>dynabench entry</td>\n",
              "      <td>1</td>\n",
              "      <td>test</td>\n",
              "      <td>gnzuctwed3</td>\n",
              "    </tr>\n",
              "    <tr>\n",
              "      <th>4</th>\n",
              "      <td>5</td>\n",
              "      <td>10004</td>\n",
              "      <td>I don't work this hard so that those immigrant...</td>\n",
              "      <td>hate</td>\n",
              "      <td>notgiven</td>\n",
              "      <td>True</td>\n",
              "      <td>0.98836</td>\n",
              "      <td>dynabench entry</td>\n",
              "      <td>1</td>\n",
              "      <td>train</td>\n",
              "      <td>cagnluiznm</td>\n",
              "    </tr>\n",
              "  </tbody>\n",
              "</table>\n",
              "</div>\n",
              "      <button class=\"colab-df-convert\" onclick=\"convertToInteractive('df-e9c7982e-3c11-43a8-b0e8-ac3b330fbb84')\"\n",
              "              title=\"Convert this dataframe to an interactive table.\"\n",
              "              style=\"display:none;\">\n",
              "        \n",
              "  <svg xmlns=\"http://www.w3.org/2000/svg\" height=\"24px\"viewBox=\"0 0 24 24\"\n",
              "       width=\"24px\">\n",
              "    <path d=\"M0 0h24v24H0V0z\" fill=\"none\"/>\n",
              "    <path d=\"M18.56 5.44l.94 2.06.94-2.06 2.06-.94-2.06-.94-.94-2.06-.94 2.06-2.06.94zm-11 1L8.5 8.5l.94-2.06 2.06-.94-2.06-.94L8.5 2.5l-.94 2.06-2.06.94zm10 10l.94 2.06.94-2.06 2.06-.94-2.06-.94-.94-2.06-.94 2.06-2.06.94z\"/><path d=\"M17.41 7.96l-1.37-1.37c-.4-.4-.92-.59-1.43-.59-.52 0-1.04.2-1.43.59L10.3 9.45l-7.72 7.72c-.78.78-.78 2.05 0 2.83L4 21.41c.39.39.9.59 1.41.59.51 0 1.02-.2 1.41-.59l7.78-7.78 2.81-2.81c.8-.78.8-2.07 0-2.86zM5.41 20L4 18.59l7.72-7.72 1.47 1.35L5.41 20z\"/>\n",
              "  </svg>\n",
              "      </button>\n",
              "      \n",
              "  <style>\n",
              "    .colab-df-container {\n",
              "      display:flex;\n",
              "      flex-wrap:wrap;\n",
              "      gap: 12px;\n",
              "    }\n",
              "\n",
              "    .colab-df-convert {\n",
              "      background-color: #E8F0FE;\n",
              "      border: none;\n",
              "      border-radius: 50%;\n",
              "      cursor: pointer;\n",
              "      display: none;\n",
              "      fill: #1967D2;\n",
              "      height: 32px;\n",
              "      padding: 0 0 0 0;\n",
              "      width: 32px;\n",
              "    }\n",
              "\n",
              "    .colab-df-convert:hover {\n",
              "      background-color: #E2EBFA;\n",
              "      box-shadow: 0px 1px 2px rgba(60, 64, 67, 0.3), 0px 1px 3px 1px rgba(60, 64, 67, 0.15);\n",
              "      fill: #174EA6;\n",
              "    }\n",
              "\n",
              "    [theme=dark] .colab-df-convert {\n",
              "      background-color: #3B4455;\n",
              "      fill: #D2E3FC;\n",
              "    }\n",
              "\n",
              "    [theme=dark] .colab-df-convert:hover {\n",
              "      background-color: #434B5C;\n",
              "      box-shadow: 0px 1px 3px 1px rgba(0, 0, 0, 0.15);\n",
              "      filter: drop-shadow(0px 1px 2px rgba(0, 0, 0, 0.3));\n",
              "      fill: #FFFFFF;\n",
              "    }\n",
              "  </style>\n",
              "\n",
              "      <script>\n",
              "        const buttonEl =\n",
              "          document.querySelector('#df-e9c7982e-3c11-43a8-b0e8-ac3b330fbb84 button.colab-df-convert');\n",
              "        buttonEl.style.display =\n",
              "          google.colab.kernel.accessAllowed ? 'block' : 'none';\n",
              "\n",
              "        async function convertToInteractive(key) {\n",
              "          const element = document.querySelector('#df-e9c7982e-3c11-43a8-b0e8-ac3b330fbb84');\n",
              "          const dataTable =\n",
              "            await google.colab.kernel.invokeFunction('convertToInteractive',\n",
              "                                                     [key], {});\n",
              "          if (!dataTable) return;\n",
              "\n",
              "          const docLinkHtml = 'Like what you see? Visit the ' +\n",
              "            '<a target=\"_blank\" href=https://colab.research.google.com/notebooks/data_table.ipynb>data table notebook</a>'\n",
              "            + ' to learn more about interactive tables.';\n",
              "          element.innerHTML = '';\n",
              "          dataTable['output_type'] = 'display_data';\n",
              "          await google.colab.output.renderOutput(dataTable, element);\n",
              "          const docLink = document.createElement('div');\n",
              "          docLink.innerHTML = docLinkHtml;\n",
              "          element.appendChild(docLink);\n",
              "        }\n",
              "      </script>\n",
              "    </div>\n",
              "  </div>\n",
              "  "
            ]
          },
          "metadata": {},
          "execution_count": 249
        }
      ],
      "source": [
        "data.head()"
      ]
    },
    {
      "cell_type": "code",
      "execution_count": 250,
      "metadata": {
        "colab": {
          "base_uri": "https://localhost:8080/",
          "height": 406
        },
        "id": "VTdKzrZ70OMB",
        "outputId": "e35d805e-3c36-4e56-cd04-6fe5f811b6f0"
      },
      "outputs": [
        {
          "output_type": "execute_result",
          "data": {
            "text/plain": [
              "       Unnamed: 0    id                                               text  \\\n",
              "40618       40736  9995  we should forcibly remove all the foreigners f...   \n",
              "40619       40737  9996  we should forcibly remove all the immigrants f...   \n",
              "40620       40738  9997               dalits are unworthy of the Gods love   \n",
              "40621       40739  9998                               dalits are worthless   \n",
              "40622       40740  9999       dalits are deserves to be treated as lowlife   \n",
              "\n",
              "      label      type model_wrong  db.model_preds           status round  \\\n",
              "40618  hate  notgiven        True         0.86945  dynabench entry     1   \n",
              "40619  hate  notgiven        True         0.50039  dynabench entry     1   \n",
              "40620  hate  notgiven        True         0.97652  dynabench entry     1   \n",
              "40621  hate  notgiven        True         0.94326  dynabench entry     1   \n",
              "40622  hate  notgiven        True         0.94324  dynabench entry     1   \n",
              "\n",
              "       split   annotator  \n",
              "40618  train  cagnluiznm  \n",
              "40619  train  cagnluiznm  \n",
              "40620  train  cagnluiznm  \n",
              "40621  train  cagnluiznm  \n",
              "40622  train  cagnluiznm  "
            ],
            "text/html": [
              "\n",
              "  <div id=\"df-c4e6d205-5f35-4108-9a40-3aa402210859\">\n",
              "    <div class=\"colab-df-container\">\n",
              "      <div>\n",
              "<style scoped>\n",
              "    .dataframe tbody tr th:only-of-type {\n",
              "        vertical-align: middle;\n",
              "    }\n",
              "\n",
              "    .dataframe tbody tr th {\n",
              "        vertical-align: top;\n",
              "    }\n",
              "\n",
              "    .dataframe thead th {\n",
              "        text-align: right;\n",
              "    }\n",
              "</style>\n",
              "<table border=\"1\" class=\"dataframe\">\n",
              "  <thead>\n",
              "    <tr style=\"text-align: right;\">\n",
              "      <th></th>\n",
              "      <th>Unnamed: 0</th>\n",
              "      <th>id</th>\n",
              "      <th>text</th>\n",
              "      <th>label</th>\n",
              "      <th>type</th>\n",
              "      <th>model_wrong</th>\n",
              "      <th>db.model_preds</th>\n",
              "      <th>status</th>\n",
              "      <th>round</th>\n",
              "      <th>split</th>\n",
              "      <th>annotator</th>\n",
              "    </tr>\n",
              "  </thead>\n",
              "  <tbody>\n",
              "    <tr>\n",
              "      <th>40618</th>\n",
              "      <td>40736</td>\n",
              "      <td>9995</td>\n",
              "      <td>we should forcibly remove all the foreigners f...</td>\n",
              "      <td>hate</td>\n",
              "      <td>notgiven</td>\n",
              "      <td>True</td>\n",
              "      <td>0.86945</td>\n",
              "      <td>dynabench entry</td>\n",
              "      <td>1</td>\n",
              "      <td>train</td>\n",
              "      <td>cagnluiznm</td>\n",
              "    </tr>\n",
              "    <tr>\n",
              "      <th>40619</th>\n",
              "      <td>40737</td>\n",
              "      <td>9996</td>\n",
              "      <td>we should forcibly remove all the immigrants f...</td>\n",
              "      <td>hate</td>\n",
              "      <td>notgiven</td>\n",
              "      <td>True</td>\n",
              "      <td>0.50039</td>\n",
              "      <td>dynabench entry</td>\n",
              "      <td>1</td>\n",
              "      <td>train</td>\n",
              "      <td>cagnluiznm</td>\n",
              "    </tr>\n",
              "    <tr>\n",
              "      <th>40620</th>\n",
              "      <td>40738</td>\n",
              "      <td>9997</td>\n",
              "      <td>dalits are unworthy of the Gods love</td>\n",
              "      <td>hate</td>\n",
              "      <td>notgiven</td>\n",
              "      <td>True</td>\n",
              "      <td>0.97652</td>\n",
              "      <td>dynabench entry</td>\n",
              "      <td>1</td>\n",
              "      <td>train</td>\n",
              "      <td>cagnluiznm</td>\n",
              "    </tr>\n",
              "    <tr>\n",
              "      <th>40621</th>\n",
              "      <td>40739</td>\n",
              "      <td>9998</td>\n",
              "      <td>dalits are worthless</td>\n",
              "      <td>hate</td>\n",
              "      <td>notgiven</td>\n",
              "      <td>True</td>\n",
              "      <td>0.94326</td>\n",
              "      <td>dynabench entry</td>\n",
              "      <td>1</td>\n",
              "      <td>train</td>\n",
              "      <td>cagnluiznm</td>\n",
              "    </tr>\n",
              "    <tr>\n",
              "      <th>40622</th>\n",
              "      <td>40740</td>\n",
              "      <td>9999</td>\n",
              "      <td>dalits are deserves to be treated as lowlife</td>\n",
              "      <td>hate</td>\n",
              "      <td>notgiven</td>\n",
              "      <td>True</td>\n",
              "      <td>0.94324</td>\n",
              "      <td>dynabench entry</td>\n",
              "      <td>1</td>\n",
              "      <td>train</td>\n",
              "      <td>cagnluiznm</td>\n",
              "    </tr>\n",
              "  </tbody>\n",
              "</table>\n",
              "</div>\n",
              "      <button class=\"colab-df-convert\" onclick=\"convertToInteractive('df-c4e6d205-5f35-4108-9a40-3aa402210859')\"\n",
              "              title=\"Convert this dataframe to an interactive table.\"\n",
              "              style=\"display:none;\">\n",
              "        \n",
              "  <svg xmlns=\"http://www.w3.org/2000/svg\" height=\"24px\"viewBox=\"0 0 24 24\"\n",
              "       width=\"24px\">\n",
              "    <path d=\"M0 0h24v24H0V0z\" fill=\"none\"/>\n",
              "    <path d=\"M18.56 5.44l.94 2.06.94-2.06 2.06-.94-2.06-.94-.94-2.06-.94 2.06-2.06.94zm-11 1L8.5 8.5l.94-2.06 2.06-.94-2.06-.94L8.5 2.5l-.94 2.06-2.06.94zm10 10l.94 2.06.94-2.06 2.06-.94-2.06-.94-.94-2.06-.94 2.06-2.06.94z\"/><path d=\"M17.41 7.96l-1.37-1.37c-.4-.4-.92-.59-1.43-.59-.52 0-1.04.2-1.43.59L10.3 9.45l-7.72 7.72c-.78.78-.78 2.05 0 2.83L4 21.41c.39.39.9.59 1.41.59.51 0 1.02-.2 1.41-.59l7.78-7.78 2.81-2.81c.8-.78.8-2.07 0-2.86zM5.41 20L4 18.59l7.72-7.72 1.47 1.35L5.41 20z\"/>\n",
              "  </svg>\n",
              "      </button>\n",
              "      \n",
              "  <style>\n",
              "    .colab-df-container {\n",
              "      display:flex;\n",
              "      flex-wrap:wrap;\n",
              "      gap: 12px;\n",
              "    }\n",
              "\n",
              "    .colab-df-convert {\n",
              "      background-color: #E8F0FE;\n",
              "      border: none;\n",
              "      border-radius: 50%;\n",
              "      cursor: pointer;\n",
              "      display: none;\n",
              "      fill: #1967D2;\n",
              "      height: 32px;\n",
              "      padding: 0 0 0 0;\n",
              "      width: 32px;\n",
              "    }\n",
              "\n",
              "    .colab-df-convert:hover {\n",
              "      background-color: #E2EBFA;\n",
              "      box-shadow: 0px 1px 2px rgba(60, 64, 67, 0.3), 0px 1px 3px 1px rgba(60, 64, 67, 0.15);\n",
              "      fill: #174EA6;\n",
              "    }\n",
              "\n",
              "    [theme=dark] .colab-df-convert {\n",
              "      background-color: #3B4455;\n",
              "      fill: #D2E3FC;\n",
              "    }\n",
              "\n",
              "    [theme=dark] .colab-df-convert:hover {\n",
              "      background-color: #434B5C;\n",
              "      box-shadow: 0px 1px 3px 1px rgba(0, 0, 0, 0.15);\n",
              "      filter: drop-shadow(0px 1px 2px rgba(0, 0, 0, 0.3));\n",
              "      fill: #FFFFFF;\n",
              "    }\n",
              "  </style>\n",
              "\n",
              "      <script>\n",
              "        const buttonEl =\n",
              "          document.querySelector('#df-c4e6d205-5f35-4108-9a40-3aa402210859 button.colab-df-convert');\n",
              "        buttonEl.style.display =\n",
              "          google.colab.kernel.accessAllowed ? 'block' : 'none';\n",
              "\n",
              "        async function convertToInteractive(key) {\n",
              "          const element = document.querySelector('#df-c4e6d205-5f35-4108-9a40-3aa402210859');\n",
              "          const dataTable =\n",
              "            await google.colab.kernel.invokeFunction('convertToInteractive',\n",
              "                                                     [key], {});\n",
              "          if (!dataTable) return;\n",
              "\n",
              "          const docLinkHtml = 'Like what you see? Visit the ' +\n",
              "            '<a target=\"_blank\" href=https://colab.research.google.com/notebooks/data_table.ipynb>data table notebook</a>'\n",
              "            + ' to learn more about interactive tables.';\n",
              "          element.innerHTML = '';\n",
              "          dataTable['output_type'] = 'display_data';\n",
              "          await google.colab.output.renderOutput(dataTable, element);\n",
              "          const docLink = document.createElement('div');\n",
              "          docLink.innerHTML = docLinkHtml;\n",
              "          element.appendChild(docLink);\n",
              "        }\n",
              "      </script>\n",
              "    </div>\n",
              "  </div>\n",
              "  "
            ]
          },
          "metadata": {},
          "execution_count": 250
        }
      ],
      "source": [
        "data.tail()"
      ]
    },
    {
      "cell_type": "markdown",
      "metadata": {
        "id": "4ceXZetq0o-D"
      },
      "source": [
        "### **Data Pre-processing**"
      ]
    },
    {
      "cell_type": "code",
      "execution_count": 251,
      "metadata": {
        "id": "4Z1zitcQ0OPC"
      },
      "outputs": [],
      "source": [
        "data = data[[\"text\", \"label\"]]"
      ]
    },
    {
      "cell_type": "code",
      "execution_count": 252,
      "metadata": {
        "colab": {
          "base_uri": "https://localhost:8080/",
          "height": 206
        },
        "id": "cVVkHDha0ORr",
        "outputId": "e4d361fa-4493-42aa-b654-cda5678a7239"
      },
      "outputs": [
        {
          "output_type": "execute_result",
          "data": {
            "text/plain": [
              "                                                text label\n",
              "0  It should be legal for a husband to rape his wife  hate\n",
              "1                            dalits are lowlife scum  hate\n",
              "2                                dalits are lowlives  hate\n",
              "3  It was a better world when women dare not ques...  hate\n",
              "4  I don't work this hard so that those immigrant...  hate"
            ],
            "text/html": [
              "\n",
              "  <div id=\"df-18a7eeb9-b183-4608-bed1-bcdce08bd4f5\">\n",
              "    <div class=\"colab-df-container\">\n",
              "      <div>\n",
              "<style scoped>\n",
              "    .dataframe tbody tr th:only-of-type {\n",
              "        vertical-align: middle;\n",
              "    }\n",
              "\n",
              "    .dataframe tbody tr th {\n",
              "        vertical-align: top;\n",
              "    }\n",
              "\n",
              "    .dataframe thead th {\n",
              "        text-align: right;\n",
              "    }\n",
              "</style>\n",
              "<table border=\"1\" class=\"dataframe\">\n",
              "  <thead>\n",
              "    <tr style=\"text-align: right;\">\n",
              "      <th></th>\n",
              "      <th>text</th>\n",
              "      <th>label</th>\n",
              "    </tr>\n",
              "  </thead>\n",
              "  <tbody>\n",
              "    <tr>\n",
              "      <th>0</th>\n",
              "      <td>It should be legal for a husband to rape his wife</td>\n",
              "      <td>hate</td>\n",
              "    </tr>\n",
              "    <tr>\n",
              "      <th>1</th>\n",
              "      <td>dalits are lowlife scum</td>\n",
              "      <td>hate</td>\n",
              "    </tr>\n",
              "    <tr>\n",
              "      <th>2</th>\n",
              "      <td>dalits are lowlives</td>\n",
              "      <td>hate</td>\n",
              "    </tr>\n",
              "    <tr>\n",
              "      <th>3</th>\n",
              "      <td>It was a better world when women dare not ques...</td>\n",
              "      <td>hate</td>\n",
              "    </tr>\n",
              "    <tr>\n",
              "      <th>4</th>\n",
              "      <td>I don't work this hard so that those immigrant...</td>\n",
              "      <td>hate</td>\n",
              "    </tr>\n",
              "  </tbody>\n",
              "</table>\n",
              "</div>\n",
              "      <button class=\"colab-df-convert\" onclick=\"convertToInteractive('df-18a7eeb9-b183-4608-bed1-bcdce08bd4f5')\"\n",
              "              title=\"Convert this dataframe to an interactive table.\"\n",
              "              style=\"display:none;\">\n",
              "        \n",
              "  <svg xmlns=\"http://www.w3.org/2000/svg\" height=\"24px\"viewBox=\"0 0 24 24\"\n",
              "       width=\"24px\">\n",
              "    <path d=\"M0 0h24v24H0V0z\" fill=\"none\"/>\n",
              "    <path d=\"M18.56 5.44l.94 2.06.94-2.06 2.06-.94-2.06-.94-.94-2.06-.94 2.06-2.06.94zm-11 1L8.5 8.5l.94-2.06 2.06-.94-2.06-.94L8.5 2.5l-.94 2.06-2.06.94zm10 10l.94 2.06.94-2.06 2.06-.94-2.06-.94-.94-2.06-.94 2.06-2.06.94z\"/><path d=\"M17.41 7.96l-1.37-1.37c-.4-.4-.92-.59-1.43-.59-.52 0-1.04.2-1.43.59L10.3 9.45l-7.72 7.72c-.78.78-.78 2.05 0 2.83L4 21.41c.39.39.9.59 1.41.59.51 0 1.02-.2 1.41-.59l7.78-7.78 2.81-2.81c.8-.78.8-2.07 0-2.86zM5.41 20L4 18.59l7.72-7.72 1.47 1.35L5.41 20z\"/>\n",
              "  </svg>\n",
              "      </button>\n",
              "      \n",
              "  <style>\n",
              "    .colab-df-container {\n",
              "      display:flex;\n",
              "      flex-wrap:wrap;\n",
              "      gap: 12px;\n",
              "    }\n",
              "\n",
              "    .colab-df-convert {\n",
              "      background-color: #E8F0FE;\n",
              "      border: none;\n",
              "      border-radius: 50%;\n",
              "      cursor: pointer;\n",
              "      display: none;\n",
              "      fill: #1967D2;\n",
              "      height: 32px;\n",
              "      padding: 0 0 0 0;\n",
              "      width: 32px;\n",
              "    }\n",
              "\n",
              "    .colab-df-convert:hover {\n",
              "      background-color: #E2EBFA;\n",
              "      box-shadow: 0px 1px 2px rgba(60, 64, 67, 0.3), 0px 1px 3px 1px rgba(60, 64, 67, 0.15);\n",
              "      fill: #174EA6;\n",
              "    }\n",
              "\n",
              "    [theme=dark] .colab-df-convert {\n",
              "      background-color: #3B4455;\n",
              "      fill: #D2E3FC;\n",
              "    }\n",
              "\n",
              "    [theme=dark] .colab-df-convert:hover {\n",
              "      background-color: #434B5C;\n",
              "      box-shadow: 0px 1px 3px 1px rgba(0, 0, 0, 0.15);\n",
              "      filter: drop-shadow(0px 1px 2px rgba(0, 0, 0, 0.3));\n",
              "      fill: #FFFFFF;\n",
              "    }\n",
              "  </style>\n",
              "\n",
              "      <script>\n",
              "        const buttonEl =\n",
              "          document.querySelector('#df-18a7eeb9-b183-4608-bed1-bcdce08bd4f5 button.colab-df-convert');\n",
              "        buttonEl.style.display =\n",
              "          google.colab.kernel.accessAllowed ? 'block' : 'none';\n",
              "\n",
              "        async function convertToInteractive(key) {\n",
              "          const element = document.querySelector('#df-18a7eeb9-b183-4608-bed1-bcdce08bd4f5');\n",
              "          const dataTable =\n",
              "            await google.colab.kernel.invokeFunction('convertToInteractive',\n",
              "                                                     [key], {});\n",
              "          if (!dataTable) return;\n",
              "\n",
              "          const docLinkHtml = 'Like what you see? Visit the ' +\n",
              "            '<a target=\"_blank\" href=https://colab.research.google.com/notebooks/data_table.ipynb>data table notebook</a>'\n",
              "            + ' to learn more about interactive tables.';\n",
              "          element.innerHTML = '';\n",
              "          dataTable['output_type'] = 'display_data';\n",
              "          await google.colab.output.renderOutput(dataTable, element);\n",
              "          const docLink = document.createElement('div');\n",
              "          docLink.innerHTML = docLinkHtml;\n",
              "          element.appendChild(docLink);\n",
              "        }\n",
              "      </script>\n",
              "    </div>\n",
              "  </div>\n",
              "  "
            ]
          },
          "metadata": {},
          "execution_count": 252
        }
      ],
      "source": [
        "data.head()"
      ]
    },
    {
      "cell_type": "code",
      "execution_count": 253,
      "metadata": {
        "colab": {
          "base_uri": "https://localhost:8080/"
        },
        "id": "acmRSDH10OUP",
        "outputId": "1297cf62-5d55-4def-ee55-fc1b71225352"
      },
      "outputs": [
        {
          "output_type": "execute_result",
          "data": {
            "text/plain": [
              "hate       22124\n",
              "nothate    18499\n",
              "Name: label, dtype: int64"
            ]
          },
          "metadata": {},
          "execution_count": 253
        }
      ],
      "source": [
        "data[\"label\"].value_counts()"
      ]
    },
    {
      "cell_type": "code",
      "execution_count": 254,
      "metadata": {
        "colab": {
          "base_uri": "https://localhost:8080/"
        },
        "id": "0SDoeOye0OWm",
        "outputId": "3cadec55-5529-43d3-8c3b-7a2f619d6046"
      },
      "outputs": [
        {
          "output_type": "stream",
          "name": "stdout",
          "text": [
            "<class 'pandas.core.frame.DataFrame'>\n",
            "RangeIndex: 40623 entries, 0 to 40622\n",
            "Data columns (total 2 columns):\n",
            " #   Column  Non-Null Count  Dtype \n",
            "---  ------  --------------  ----- \n",
            " 0   text    40623 non-null  object\n",
            " 1   label   40623 non-null  object\n",
            "dtypes: object(2)\n",
            "memory usage: 634.9+ KB\n"
          ]
        }
      ],
      "source": [
        "data.info()"
      ]
    },
    {
      "cell_type": "code",
      "execution_count": 255,
      "metadata": {
        "colab": {
          "base_uri": "https://localhost:8080/"
        },
        "id": "Dzy0DN1C0OZR",
        "outputId": "feffad31-039d-4f16-f577-76bfcdc923ac"
      },
      "outputs": [
        {
          "output_type": "execute_result",
          "data": {
            "text/plain": [
              "text     0\n",
              "label    0\n",
              "dtype: int64"
            ]
          },
          "metadata": {},
          "execution_count": 255
        }
      ],
      "source": [
        "data.isnull().sum()"
      ]
    },
    {
      "cell_type": "code",
      "execution_count": 256,
      "metadata": {
        "colab": {
          "base_uri": "https://localhost:8080/"
        },
        "id": "Vmkot9S60Obg",
        "outputId": "341ce8bd-aed7-4fc0-8bb2-5f6c92646e06"
      },
      "outputs": [
        {
          "output_type": "execute_result",
          "data": {
            "text/plain": [
              "text     object\n",
              "label    object\n",
              "dtype: object"
            ]
          },
          "metadata": {},
          "execution_count": 256
        }
      ],
      "source": [
        "data.dtypes"
      ]
    },
    {
      "cell_type": "code",
      "execution_count": 257,
      "metadata": {
        "id": "NtFOOdj_0xtl"
      },
      "outputs": [],
      "source": [
        "label_encoder = preprocessing.LabelEncoder()"
      ]
    },
    {
      "cell_type": "code",
      "execution_count": 258,
      "metadata": {
        "id": "1XdROwaM1cD6",
        "colab": {
          "base_uri": "https://localhost:8080/"
        },
        "outputId": "d1320c87-e0db-4e95-f6ea-46c7ace27b18"
      },
      "outputs": [
        {
          "output_type": "stream",
          "name": "stderr",
          "text": [
            "/usr/local/lib/python3.7/dist-packages/ipykernel_launcher.py:1: SettingWithCopyWarning: \n",
            "A value is trying to be set on a copy of a slice from a DataFrame.\n",
            "Try using .loc[row_indexer,col_indexer] = value instead\n",
            "\n",
            "See the caveats in the documentation: https://pandas.pydata.org/pandas-docs/stable/user_guide/indexing.html#returning-a-view-versus-a-copy\n",
            "  \"\"\"Entry point for launching an IPython kernel.\n"
          ]
        }
      ],
      "source": [
        "data[\"label\"] = label_encoder.fit_transform(data[\"label\"])"
      ]
    },
    {
      "cell_type": "code",
      "execution_count": 259,
      "metadata": {
        "colab": {
          "base_uri": "https://localhost:8080/"
        },
        "id": "LsE_bQnU1mlb",
        "outputId": "9bd3ea4d-e18a-46bd-c370-82a603b65d8b"
      },
      "outputs": [
        {
          "output_type": "execute_result",
          "data": {
            "text/plain": [
              "0    22124\n",
              "1    18499\n",
              "Name: label, dtype: int64"
            ]
          },
          "metadata": {},
          "execution_count": 259
        }
      ],
      "source": [
        "data[\"label\"].value_counts()"
      ]
    },
    {
      "cell_type": "code",
      "execution_count": 260,
      "metadata": {
        "colab": {
          "base_uri": "https://localhost:8080/"
        },
        "id": "ZEWeB-g1AJw7",
        "outputId": "daf68d41-4d23-4a17-d05c-c3d48bea53d0"
      },
      "outputs": [
        {
          "output_type": "execute_result",
          "data": {
            "text/plain": [
              "0        It should be legal for a husband to rape his wife\n",
              "1                                  dalits are lowlife scum\n",
              "2                                      dalits are lowlives\n",
              "3        It was a better world when women dare not ques...\n",
              "4        I don't work this hard so that those immigrant...\n",
              "                               ...                        \n",
              "40618    we should forcibly remove all the foreigners f...\n",
              "40619    we should forcibly remove all the immigrants f...\n",
              "40620                 dalits are unworthy of the Gods love\n",
              "40621                                 dalits are worthless\n",
              "40622         dalits are deserves to be treated as lowlife\n",
              "Name: text, Length: 40623, dtype: object"
            ]
          },
          "metadata": {},
          "execution_count": 260
        }
      ],
      "source": [
        "data[\"text\"]"
      ]
    },
    {
      "cell_type": "markdown",
      "metadata": {
        "id": "t753R1lb6A-v"
      },
      "source": [
        "## **DATA CLEANING**"
      ]
    },
    {
      "cell_type": "code",
      "execution_count": 261,
      "metadata": {
        "id": "5IYgLBm_6GwV"
      },
      "outputs": [],
      "source": [
        "class data_clearning:\n",
        "  def __init__(self, x):\n",
        "    self.x = x\n",
        "    #self.y = y\n",
        "  def data_cleaning_main_function(self):\n",
        "    # Removing the URLS's from the Data\n",
        "    # To remove the URL's from the data the str.replace method is used, we call the replace with regex string, that finds the URL\n",
        "    # and replace them with empty strings, the str.strip method removes the space from the Beginning and at the end of the string\n",
        "    self.x = self.x.str.replace(r'\\s*https?://\\S+(\\s+|$)', ' ').str.strip()\n",
        "    # Lowering the Sentences\n",
        "    # To lower all the capital letters in the data\n",
        "    self.x = self.x.apply(lambda x: x.lower())\n",
        "    # Removing the Punctuation Marks from the Data, the str.replace method is used, we call the replace with the regex string,\n",
        "    # that finds all the punctuation marks from the data and replace them with empty strings\n",
        "    # the str.strip methods remove the space from the Beginning and at the End of the String\n",
        "    self.x = self.x.str.replace(r'[^\\w\\s]+', ' ').str.strip()\n",
        "    nltk.download('stopwords')\n",
        "    stop = set(stopwords.words(\"english\"))\n",
        "    def remove_stopwords(text):\n",
        "        filtered_words = [word.lower() for word in text.split() if word.lower() not in stop]\n",
        "        return \" \".join(filtered_words)\n",
        "    self.x = self.x.map(remove_stopwords)\n",
        "    return self.x\n"
      ]
    },
    {
      "cell_type": "code",
      "execution_count": 262,
      "metadata": {
        "colab": {
          "base_uri": "https://localhost:8080/"
        },
        "id": "OgRl5iYq6G39",
        "outputId": "522be8ea-5342-4a27-a0b0-2f7e99abc5ff"
      },
      "outputs": [
        {
          "output_type": "stream",
          "name": "stderr",
          "text": [
            "/usr/local/lib/python3.7/dist-packages/ipykernel_launcher.py:9: FutureWarning: The default value of regex will change from True to False in a future version.\n",
            "  if __name__ == '__main__':\n",
            "/usr/local/lib/python3.7/dist-packages/ipykernel_launcher.py:16: FutureWarning: The default value of regex will change from True to False in a future version.\n",
            "  app.launch_new_instance()\n",
            "[nltk_data] Downloading package stopwords to /root/nltk_data...\n",
            "[nltk_data]   Package stopwords is already up-to-date!\n"
          ]
        }
      ],
      "source": [
        "dc = data_clearning(data[\"text\"])\n",
        "data[\"text\"]  = dc.data_cleaning_main_function()"
      ]
    },
    {
      "cell_type": "markdown",
      "metadata": {
        "id": "G7M8kW61Pa2O"
      },
      "source": [
        "0 Represents Hate\n",
        "\n",
        "1 Represents Non- Hate"
      ]
    },
    {
      "cell_type": "code",
      "execution_count": 263,
      "metadata": {
        "colab": {
          "base_uri": "https://localhost:8080/",
          "height": 206
        },
        "id": "RONFRlzG_68y",
        "outputId": "c3459874-988f-4f47-bf31-bc1271c342d5"
      },
      "outputs": [
        {
          "output_type": "execute_result",
          "data": {
            "text/plain": [
              "                                   text  label\n",
              "0               legal husband rape wife      0\n",
              "1                   dalits lowlife scum      0\n",
              "2                       dalits lowlives      0\n",
              "3  better world women dare question men      0\n",
              "4    work hard immigrants take benefits      0"
            ],
            "text/html": [
              "\n",
              "  <div id=\"df-0852bd4a-2003-4d2c-a8a4-73b03dac48de\">\n",
              "    <div class=\"colab-df-container\">\n",
              "      <div>\n",
              "<style scoped>\n",
              "    .dataframe tbody tr th:only-of-type {\n",
              "        vertical-align: middle;\n",
              "    }\n",
              "\n",
              "    .dataframe tbody tr th {\n",
              "        vertical-align: top;\n",
              "    }\n",
              "\n",
              "    .dataframe thead th {\n",
              "        text-align: right;\n",
              "    }\n",
              "</style>\n",
              "<table border=\"1\" class=\"dataframe\">\n",
              "  <thead>\n",
              "    <tr style=\"text-align: right;\">\n",
              "      <th></th>\n",
              "      <th>text</th>\n",
              "      <th>label</th>\n",
              "    </tr>\n",
              "  </thead>\n",
              "  <tbody>\n",
              "    <tr>\n",
              "      <th>0</th>\n",
              "      <td>legal husband rape wife</td>\n",
              "      <td>0</td>\n",
              "    </tr>\n",
              "    <tr>\n",
              "      <th>1</th>\n",
              "      <td>dalits lowlife scum</td>\n",
              "      <td>0</td>\n",
              "    </tr>\n",
              "    <tr>\n",
              "      <th>2</th>\n",
              "      <td>dalits lowlives</td>\n",
              "      <td>0</td>\n",
              "    </tr>\n",
              "    <tr>\n",
              "      <th>3</th>\n",
              "      <td>better world women dare question men</td>\n",
              "      <td>0</td>\n",
              "    </tr>\n",
              "    <tr>\n",
              "      <th>4</th>\n",
              "      <td>work hard immigrants take benefits</td>\n",
              "      <td>0</td>\n",
              "    </tr>\n",
              "  </tbody>\n",
              "</table>\n",
              "</div>\n",
              "      <button class=\"colab-df-convert\" onclick=\"convertToInteractive('df-0852bd4a-2003-4d2c-a8a4-73b03dac48de')\"\n",
              "              title=\"Convert this dataframe to an interactive table.\"\n",
              "              style=\"display:none;\">\n",
              "        \n",
              "  <svg xmlns=\"http://www.w3.org/2000/svg\" height=\"24px\"viewBox=\"0 0 24 24\"\n",
              "       width=\"24px\">\n",
              "    <path d=\"M0 0h24v24H0V0z\" fill=\"none\"/>\n",
              "    <path d=\"M18.56 5.44l.94 2.06.94-2.06 2.06-.94-2.06-.94-.94-2.06-.94 2.06-2.06.94zm-11 1L8.5 8.5l.94-2.06 2.06-.94-2.06-.94L8.5 2.5l-.94 2.06-2.06.94zm10 10l.94 2.06.94-2.06 2.06-.94-2.06-.94-.94-2.06-.94 2.06-2.06.94z\"/><path d=\"M17.41 7.96l-1.37-1.37c-.4-.4-.92-.59-1.43-.59-.52 0-1.04.2-1.43.59L10.3 9.45l-7.72 7.72c-.78.78-.78 2.05 0 2.83L4 21.41c.39.39.9.59 1.41.59.51 0 1.02-.2 1.41-.59l7.78-7.78 2.81-2.81c.8-.78.8-2.07 0-2.86zM5.41 20L4 18.59l7.72-7.72 1.47 1.35L5.41 20z\"/>\n",
              "  </svg>\n",
              "      </button>\n",
              "      \n",
              "  <style>\n",
              "    .colab-df-container {\n",
              "      display:flex;\n",
              "      flex-wrap:wrap;\n",
              "      gap: 12px;\n",
              "    }\n",
              "\n",
              "    .colab-df-convert {\n",
              "      background-color: #E8F0FE;\n",
              "      border: none;\n",
              "      border-radius: 50%;\n",
              "      cursor: pointer;\n",
              "      display: none;\n",
              "      fill: #1967D2;\n",
              "      height: 32px;\n",
              "      padding: 0 0 0 0;\n",
              "      width: 32px;\n",
              "    }\n",
              "\n",
              "    .colab-df-convert:hover {\n",
              "      background-color: #E2EBFA;\n",
              "      box-shadow: 0px 1px 2px rgba(60, 64, 67, 0.3), 0px 1px 3px 1px rgba(60, 64, 67, 0.15);\n",
              "      fill: #174EA6;\n",
              "    }\n",
              "\n",
              "    [theme=dark] .colab-df-convert {\n",
              "      background-color: #3B4455;\n",
              "      fill: #D2E3FC;\n",
              "    }\n",
              "\n",
              "    [theme=dark] .colab-df-convert:hover {\n",
              "      background-color: #434B5C;\n",
              "      box-shadow: 0px 1px 3px 1px rgba(0, 0, 0, 0.15);\n",
              "      filter: drop-shadow(0px 1px 2px rgba(0, 0, 0, 0.3));\n",
              "      fill: #FFFFFF;\n",
              "    }\n",
              "  </style>\n",
              "\n",
              "      <script>\n",
              "        const buttonEl =\n",
              "          document.querySelector('#df-0852bd4a-2003-4d2c-a8a4-73b03dac48de button.colab-df-convert');\n",
              "        buttonEl.style.display =\n",
              "          google.colab.kernel.accessAllowed ? 'block' : 'none';\n",
              "\n",
              "        async function convertToInteractive(key) {\n",
              "          const element = document.querySelector('#df-0852bd4a-2003-4d2c-a8a4-73b03dac48de');\n",
              "          const dataTable =\n",
              "            await google.colab.kernel.invokeFunction('convertToInteractive',\n",
              "                                                     [key], {});\n",
              "          if (!dataTable) return;\n",
              "\n",
              "          const docLinkHtml = 'Like what you see? Visit the ' +\n",
              "            '<a target=\"_blank\" href=https://colab.research.google.com/notebooks/data_table.ipynb>data table notebook</a>'\n",
              "            + ' to learn more about interactive tables.';\n",
              "          element.innerHTML = '';\n",
              "          dataTable['output_type'] = 'display_data';\n",
              "          await google.colab.output.renderOutput(dataTable, element);\n",
              "          const docLink = document.createElement('div');\n",
              "          docLink.innerHTML = docLinkHtml;\n",
              "          element.appendChild(docLink);\n",
              "        }\n",
              "      </script>\n",
              "    </div>\n",
              "  </div>\n",
              "  "
            ]
          },
          "metadata": {},
          "execution_count": 263
        }
      ],
      "source": [
        "data.head()"
      ]
    },
    {
      "cell_type": "code",
      "execution_count": 264,
      "metadata": {
        "colab": {
          "base_uri": "https://localhost:8080/",
          "height": 206
        },
        "id": "4qitUyIhFvu0",
        "outputId": "39a5aadd-77ed-482b-f702-704177dbfaec"
      },
      "outputs": [
        {
          "output_type": "execute_result",
          "data": {
            "text/plain": [
              "                                  text  label\n",
              "40618       forcibly remove foreigners      0\n",
              "40619       forcibly remove immigrants      0\n",
              "40620        dalits unworthy gods love      0\n",
              "40621                 dalits worthless      0\n",
              "40622  dalits deserves treated lowlife      0"
            ],
            "text/html": [
              "\n",
              "  <div id=\"df-45cb04e0-d53c-42c0-b499-bbe046eee2e7\">\n",
              "    <div class=\"colab-df-container\">\n",
              "      <div>\n",
              "<style scoped>\n",
              "    .dataframe tbody tr th:only-of-type {\n",
              "        vertical-align: middle;\n",
              "    }\n",
              "\n",
              "    .dataframe tbody tr th {\n",
              "        vertical-align: top;\n",
              "    }\n",
              "\n",
              "    .dataframe thead th {\n",
              "        text-align: right;\n",
              "    }\n",
              "</style>\n",
              "<table border=\"1\" class=\"dataframe\">\n",
              "  <thead>\n",
              "    <tr style=\"text-align: right;\">\n",
              "      <th></th>\n",
              "      <th>text</th>\n",
              "      <th>label</th>\n",
              "    </tr>\n",
              "  </thead>\n",
              "  <tbody>\n",
              "    <tr>\n",
              "      <th>40618</th>\n",
              "      <td>forcibly remove foreigners</td>\n",
              "      <td>0</td>\n",
              "    </tr>\n",
              "    <tr>\n",
              "      <th>40619</th>\n",
              "      <td>forcibly remove immigrants</td>\n",
              "      <td>0</td>\n",
              "    </tr>\n",
              "    <tr>\n",
              "      <th>40620</th>\n",
              "      <td>dalits unworthy gods love</td>\n",
              "      <td>0</td>\n",
              "    </tr>\n",
              "    <tr>\n",
              "      <th>40621</th>\n",
              "      <td>dalits worthless</td>\n",
              "      <td>0</td>\n",
              "    </tr>\n",
              "    <tr>\n",
              "      <th>40622</th>\n",
              "      <td>dalits deserves treated lowlife</td>\n",
              "      <td>0</td>\n",
              "    </tr>\n",
              "  </tbody>\n",
              "</table>\n",
              "</div>\n",
              "      <button class=\"colab-df-convert\" onclick=\"convertToInteractive('df-45cb04e0-d53c-42c0-b499-bbe046eee2e7')\"\n",
              "              title=\"Convert this dataframe to an interactive table.\"\n",
              "              style=\"display:none;\">\n",
              "        \n",
              "  <svg xmlns=\"http://www.w3.org/2000/svg\" height=\"24px\"viewBox=\"0 0 24 24\"\n",
              "       width=\"24px\">\n",
              "    <path d=\"M0 0h24v24H0V0z\" fill=\"none\"/>\n",
              "    <path d=\"M18.56 5.44l.94 2.06.94-2.06 2.06-.94-2.06-.94-.94-2.06-.94 2.06-2.06.94zm-11 1L8.5 8.5l.94-2.06 2.06-.94-2.06-.94L8.5 2.5l-.94 2.06-2.06.94zm10 10l.94 2.06.94-2.06 2.06-.94-2.06-.94-.94-2.06-.94 2.06-2.06.94z\"/><path d=\"M17.41 7.96l-1.37-1.37c-.4-.4-.92-.59-1.43-.59-.52 0-1.04.2-1.43.59L10.3 9.45l-7.72 7.72c-.78.78-.78 2.05 0 2.83L4 21.41c.39.39.9.59 1.41.59.51 0 1.02-.2 1.41-.59l7.78-7.78 2.81-2.81c.8-.78.8-2.07 0-2.86zM5.41 20L4 18.59l7.72-7.72 1.47 1.35L5.41 20z\"/>\n",
              "  </svg>\n",
              "      </button>\n",
              "      \n",
              "  <style>\n",
              "    .colab-df-container {\n",
              "      display:flex;\n",
              "      flex-wrap:wrap;\n",
              "      gap: 12px;\n",
              "    }\n",
              "\n",
              "    .colab-df-convert {\n",
              "      background-color: #E8F0FE;\n",
              "      border: none;\n",
              "      border-radius: 50%;\n",
              "      cursor: pointer;\n",
              "      display: none;\n",
              "      fill: #1967D2;\n",
              "      height: 32px;\n",
              "      padding: 0 0 0 0;\n",
              "      width: 32px;\n",
              "    }\n",
              "\n",
              "    .colab-df-convert:hover {\n",
              "      background-color: #E2EBFA;\n",
              "      box-shadow: 0px 1px 2px rgba(60, 64, 67, 0.3), 0px 1px 3px 1px rgba(60, 64, 67, 0.15);\n",
              "      fill: #174EA6;\n",
              "    }\n",
              "\n",
              "    [theme=dark] .colab-df-convert {\n",
              "      background-color: #3B4455;\n",
              "      fill: #D2E3FC;\n",
              "    }\n",
              "\n",
              "    [theme=dark] .colab-df-convert:hover {\n",
              "      background-color: #434B5C;\n",
              "      box-shadow: 0px 1px 3px 1px rgba(0, 0, 0, 0.15);\n",
              "      filter: drop-shadow(0px 1px 2px rgba(0, 0, 0, 0.3));\n",
              "      fill: #FFFFFF;\n",
              "    }\n",
              "  </style>\n",
              "\n",
              "      <script>\n",
              "        const buttonEl =\n",
              "          document.querySelector('#df-45cb04e0-d53c-42c0-b499-bbe046eee2e7 button.colab-df-convert');\n",
              "        buttonEl.style.display =\n",
              "          google.colab.kernel.accessAllowed ? 'block' : 'none';\n",
              "\n",
              "        async function convertToInteractive(key) {\n",
              "          const element = document.querySelector('#df-45cb04e0-d53c-42c0-b499-bbe046eee2e7');\n",
              "          const dataTable =\n",
              "            await google.colab.kernel.invokeFunction('convertToInteractive',\n",
              "                                                     [key], {});\n",
              "          if (!dataTable) return;\n",
              "\n",
              "          const docLinkHtml = 'Like what you see? Visit the ' +\n",
              "            '<a target=\"_blank\" href=https://colab.research.google.com/notebooks/data_table.ipynb>data table notebook</a>'\n",
              "            + ' to learn more about interactive tables.';\n",
              "          element.innerHTML = '';\n",
              "          dataTable['output_type'] = 'display_data';\n",
              "          await google.colab.output.renderOutput(dataTable, element);\n",
              "          const docLink = document.createElement('div');\n",
              "          docLink.innerHTML = docLinkHtml;\n",
              "          element.appendChild(docLink);\n",
              "        }\n",
              "      </script>\n",
              "    </div>\n",
              "  </div>\n",
              "  "
            ]
          },
          "metadata": {},
          "execution_count": 264
        }
      ],
      "source": [
        "data.tail()"
      ]
    },
    {
      "cell_type": "markdown",
      "metadata": {
        "id": "xXA5XHwnP8Id"
      },
      "source": [
        "## **Train & Test Split**"
      ]
    },
    {
      "cell_type": "code",
      "execution_count": 265,
      "metadata": {
        "id": "NsNlOAImP8Qq"
      },
      "outputs": [],
      "source": [
        "X = data[\"text\"]"
      ]
    },
    {
      "cell_type": "code",
      "execution_count": 266,
      "metadata": {
        "id": "uScmVnaiQFO1"
      },
      "outputs": [],
      "source": [
        "y = data[\"label\"]"
      ]
    },
    {
      "cell_type": "code",
      "execution_count": 267,
      "metadata": {
        "id": "mM5LvxAQQJ94"
      },
      "outputs": [],
      "source": [
        "X_train, X_test, y_train, y_test = train_test_split(X, y, test_size=0.2, random_state=42, shuffle=True)\n"
      ]
    },
    {
      "cell_type": "markdown",
      "metadata": {
        "id": "XjM7TlcF5cFj"
      },
      "source": [
        "## **IMPLEMENTING THE COUNT VECTORIZER**"
      ]
    },
    {
      "cell_type": "code",
      "execution_count": 268,
      "metadata": {
        "id": "ycr_Vo3y1oK2"
      },
      "outputs": [],
      "source": [
        "vec = CountVectorizer(stop_words='english', max_features = 2000)"
      ]
    },
    {
      "cell_type": "code",
      "execution_count": 269,
      "metadata": {
        "id": "lDzSKL4XQN84"
      },
      "outputs": [],
      "source": [
        "X_train_BOW = vec.fit_transform(X_train).toarray()"
      ]
    },
    {
      "cell_type": "code",
      "execution_count": 270,
      "metadata": {
        "id": "mQHSJs1rQQcg"
      },
      "outputs": [],
      "source": [
        "X_test_BOW = vec.transform(X_test).toarray()"
      ]
    },
    {
      "cell_type": "code",
      "execution_count": 271,
      "metadata": {
        "colab": {
          "base_uri": "https://localhost:8080/"
        },
        "id": "UNOOvPinQo6j",
        "outputId": "0ea32310-bd9e-4f8e-fe9d-f6b25fd6cb33"
      },
      "outputs": [
        {
          "output_type": "execute_result",
          "data": {
            "text/plain": [
              "array([[0, 0, 0, ..., 0, 0, 0],\n",
              "       [0, 0, 0, ..., 0, 0, 0],\n",
              "       [0, 0, 0, ..., 0, 0, 0],\n",
              "       ...,\n",
              "       [0, 0, 0, ..., 0, 0, 0],\n",
              "       [0, 0, 0, ..., 0, 0, 0],\n",
              "       [0, 0, 0, ..., 0, 0, 0]])"
            ]
          },
          "metadata": {},
          "execution_count": 271
        }
      ],
      "source": [
        "X_train_BOW"
      ]
    },
    {
      "cell_type": "code",
      "execution_count": 272,
      "metadata": {
        "colab": {
          "base_uri": "https://localhost:8080/"
        },
        "id": "L4kaQ3abQpE2",
        "outputId": "e6cdf106-0858-4850-a3d0-4044e567f8c0"
      },
      "outputs": [
        {
          "output_type": "execute_result",
          "data": {
            "text/plain": [
              "array([[0, 0, 0, ..., 0, 0, 0],\n",
              "       [0, 0, 0, ..., 0, 0, 0],\n",
              "       [0, 0, 0, ..., 0, 0, 0],\n",
              "       ...,\n",
              "       [0, 0, 0, ..., 0, 0, 0],\n",
              "       [0, 0, 0, ..., 0, 0, 0],\n",
              "       [0, 0, 0, ..., 1, 0, 0]])"
            ]
          },
          "metadata": {},
          "execution_count": 272
        }
      ],
      "source": [
        "X_test_BOW"
      ]
    },
    {
      "cell_type": "markdown",
      "metadata": {
        "id": "eV6gsi6xQVji"
      },
      "source": [
        "## **Implementing the Naive Bayes Classifier**\n"
      ]
    },
    {
      "cell_type": "code",
      "execution_count": 273,
      "metadata": {
        "colab": {
          "base_uri": "https://localhost:8080/",
          "height": 348
        },
        "id": "0ROGe-haQTOz",
        "outputId": "bb6f8092-050f-4459-b4f2-270f128c8cf8"
      },
      "outputs": [
        {
          "output_type": "stream",
          "name": "stdout",
          "text": [
            "Accuracy 67.26\n",
            "              precision    recall  f1-score   support\n",
            "\n",
            "           0   0.675116  0.762554  0.716176      4401\n",
            "           1   0.668675  0.566327  0.613260      3724\n",
            "\n",
            "    accuracy                       0.672615      8125\n",
            "   macro avg   0.671895  0.664440  0.664718      8125\n",
            "weighted avg   0.672164  0.672615  0.669005      8125\n",
            "\n"
          ]
        },
        {
          "output_type": "execute_result",
          "data": {
            "text/plain": [
              "Predicted     0     1   All\n",
              "Actual                     \n",
              "0          3356  1045  4401\n",
              "1          1615  2109  3724\n",
              "All        4971  3154  8125"
            ],
            "text/html": [
              "\n",
              "  <div id=\"df-714b1788-4dde-4748-9088-f6d0bf0f4ab7\">\n",
              "    <div class=\"colab-df-container\">\n",
              "      <div>\n",
              "<style scoped>\n",
              "    .dataframe tbody tr th:only-of-type {\n",
              "        vertical-align: middle;\n",
              "    }\n",
              "\n",
              "    .dataframe tbody tr th {\n",
              "        vertical-align: top;\n",
              "    }\n",
              "\n",
              "    .dataframe thead th {\n",
              "        text-align: right;\n",
              "    }\n",
              "</style>\n",
              "<table border=\"1\" class=\"dataframe\">\n",
              "  <thead>\n",
              "    <tr style=\"text-align: right;\">\n",
              "      <th>Predicted</th>\n",
              "      <th>0</th>\n",
              "      <th>1</th>\n",
              "      <th>All</th>\n",
              "    </tr>\n",
              "    <tr>\n",
              "      <th>Actual</th>\n",
              "      <th></th>\n",
              "      <th></th>\n",
              "      <th></th>\n",
              "    </tr>\n",
              "  </thead>\n",
              "  <tbody>\n",
              "    <tr>\n",
              "      <th>0</th>\n",
              "      <td>3356</td>\n",
              "      <td>1045</td>\n",
              "      <td>4401</td>\n",
              "    </tr>\n",
              "    <tr>\n",
              "      <th>1</th>\n",
              "      <td>1615</td>\n",
              "      <td>2109</td>\n",
              "      <td>3724</td>\n",
              "    </tr>\n",
              "    <tr>\n",
              "      <th>All</th>\n",
              "      <td>4971</td>\n",
              "      <td>3154</td>\n",
              "      <td>8125</td>\n",
              "    </tr>\n",
              "  </tbody>\n",
              "</table>\n",
              "</div>\n",
              "      <button class=\"colab-df-convert\" onclick=\"convertToInteractive('df-714b1788-4dde-4748-9088-f6d0bf0f4ab7')\"\n",
              "              title=\"Convert this dataframe to an interactive table.\"\n",
              "              style=\"display:none;\">\n",
              "        \n",
              "  <svg xmlns=\"http://www.w3.org/2000/svg\" height=\"24px\"viewBox=\"0 0 24 24\"\n",
              "       width=\"24px\">\n",
              "    <path d=\"M0 0h24v24H0V0z\" fill=\"none\"/>\n",
              "    <path d=\"M18.56 5.44l.94 2.06.94-2.06 2.06-.94-2.06-.94-.94-2.06-.94 2.06-2.06.94zm-11 1L8.5 8.5l.94-2.06 2.06-.94-2.06-.94L8.5 2.5l-.94 2.06-2.06.94zm10 10l.94 2.06.94-2.06 2.06-.94-2.06-.94-.94-2.06-.94 2.06-2.06.94z\"/><path d=\"M17.41 7.96l-1.37-1.37c-.4-.4-.92-.59-1.43-.59-.52 0-1.04.2-1.43.59L10.3 9.45l-7.72 7.72c-.78.78-.78 2.05 0 2.83L4 21.41c.39.39.9.59 1.41.59.51 0 1.02-.2 1.41-.59l7.78-7.78 2.81-2.81c.8-.78.8-2.07 0-2.86zM5.41 20L4 18.59l7.72-7.72 1.47 1.35L5.41 20z\"/>\n",
              "  </svg>\n",
              "      </button>\n",
              "      \n",
              "  <style>\n",
              "    .colab-df-container {\n",
              "      display:flex;\n",
              "      flex-wrap:wrap;\n",
              "      gap: 12px;\n",
              "    }\n",
              "\n",
              "    .colab-df-convert {\n",
              "      background-color: #E8F0FE;\n",
              "      border: none;\n",
              "      border-radius: 50%;\n",
              "      cursor: pointer;\n",
              "      display: none;\n",
              "      fill: #1967D2;\n",
              "      height: 32px;\n",
              "      padding: 0 0 0 0;\n",
              "      width: 32px;\n",
              "    }\n",
              "\n",
              "    .colab-df-convert:hover {\n",
              "      background-color: #E2EBFA;\n",
              "      box-shadow: 0px 1px 2px rgba(60, 64, 67, 0.3), 0px 1px 3px 1px rgba(60, 64, 67, 0.15);\n",
              "      fill: #174EA6;\n",
              "    }\n",
              "\n",
              "    [theme=dark] .colab-df-convert {\n",
              "      background-color: #3B4455;\n",
              "      fill: #D2E3FC;\n",
              "    }\n",
              "\n",
              "    [theme=dark] .colab-df-convert:hover {\n",
              "      background-color: #434B5C;\n",
              "      box-shadow: 0px 1px 3px 1px rgba(0, 0, 0, 0.15);\n",
              "      filter: drop-shadow(0px 1px 2px rgba(0, 0, 0, 0.3));\n",
              "      fill: #FFFFFF;\n",
              "    }\n",
              "  </style>\n",
              "\n",
              "      <script>\n",
              "        const buttonEl =\n",
              "          document.querySelector('#df-714b1788-4dde-4748-9088-f6d0bf0f4ab7 button.colab-df-convert');\n",
              "        buttonEl.style.display =\n",
              "          google.colab.kernel.accessAllowed ? 'block' : 'none';\n",
              "\n",
              "        async function convertToInteractive(key) {\n",
              "          const element = document.querySelector('#df-714b1788-4dde-4748-9088-f6d0bf0f4ab7');\n",
              "          const dataTable =\n",
              "            await google.colab.kernel.invokeFunction('convertToInteractive',\n",
              "                                                     [key], {});\n",
              "          if (!dataTable) return;\n",
              "\n",
              "          const docLinkHtml = 'Like what you see? Visit the ' +\n",
              "            '<a target=\"_blank\" href=https://colab.research.google.com/notebooks/data_table.ipynb>data table notebook</a>'\n",
              "            + ' to learn more about interactive tables.';\n",
              "          element.innerHTML = '';\n",
              "          dataTable['output_type'] = 'display_data';\n",
              "          await google.colab.output.renderOutput(dataTable, element);\n",
              "          const docLink = document.createElement('div');\n",
              "          docLink.innerHTML = docLinkHtml;\n",
              "          element.appendChild(docLink);\n",
              "        }\n",
              "      </script>\n",
              "    </div>\n",
              "  </div>\n",
              "  "
            ]
          },
          "metadata": {},
          "execution_count": 273
        }
      ],
      "source": [
        "# Create and fit the random forest\n",
        "model = MultinomialNB()\n",
        "model.fit(X_train_BOW, y_train)\n",
        "\n",
        "# Evaluate predictions\n",
        "Y_pred = model.predict(X_test_BOW)\n",
        "acc_decision_NB = round(model.score(X_test_BOW, y_test) * 100, 2)\n",
        "# Printing the Classification Report\n",
        "sk_report = classification_report(\n",
        "    digits=6,\n",
        "    y_true=y_test, \n",
        "    y_pred=Y_pred)\n",
        "print(\"Accuracy\", acc_decision_NB)\n",
        "print(sk_report)\n",
        "pd.crosstab(y_test, Y_pred, rownames=['Actual'], colnames=['Predicted'], margins=True)"
      ]
    },
    {
      "cell_type": "markdown",
      "metadata": {
        "id": "LvR7iwXKS2z7"
      },
      "source": [
        "## **ROC Curve**"
      ]
    },
    {
      "cell_type": "code",
      "execution_count": 274,
      "metadata": {
        "colab": {
          "base_uri": "https://localhost:8080/",
          "height": 312
        },
        "id": "i-fmtm7ASJj4",
        "outputId": "54ce4d3a-6bac-4f5a-91bb-c47b7980fbe0"
      },
      "outputs": [
        {
          "output_type": "stream",
          "name": "stdout",
          "text": [
            "Naive Bayes Classifier Prediction: AUROC = 0.728\n"
          ]
        },
        {
          "output_type": "display_data",
          "data": {
            "text/plain": [
              "<Figure size 432x288 with 1 Axes>"
            ],
            "image/png": "[encoded data removed]"
          },
          "metadata": {
            "needs_background": "light"
          }
        }
      ],
      "source": [
        "\n",
        "r_probs = [0 for _ in range(len(y_test))]\n",
        "rf_probs = model.predict_proba(X_test_BOW)\n",
        "rf_probs = rf_probs[:, 1]\n",
        "rf_auc = roc_auc_score(y_test, rf_probs)\n",
        "r_auc = roc_auc_score(y_test, r_probs)\n",
        "print('Naive Bayes Classifier Prediction: AUROC = %.3f' % (rf_auc))\n",
        "r_fpr, r_tpr, _ = roc_curve(y_test, r_probs)\n",
        "rf_fpr, rf_tpr, _ = roc_curve(y_test, rf_probs)\n",
        "\n",
        "plt.plot(r_fpr, r_tpr, linestyle='--', label='Random prediction (AUROC = %0.3f)' % r_auc)\n",
        "plt.plot(rf_fpr, rf_tpr, linestyle='--', label='Naive Bayes Classifier prediction (AUROC = %0.3f)' % rf_auc)\n",
        "# Title\n",
        "plt.title('ROC Plot')\n",
        "# Axis labels\n",
        "plt.xlabel('False Positive Rate')\n",
        "plt.ylabel('True Positive Rate')\n",
        "# Show legend\n",
        "plt.legend() # \n",
        "# Show plot\n",
        "plt.show()"
      ]
    },
    {
      "cell_type": "markdown",
      "metadata": {
        "id": "o-2ld6PHS5kV"
      },
      "source": [
        "## **Confusion Matrix**"
      ]
    },
    {
      "cell_type": "code",
      "execution_count": 275,
      "metadata": {
        "colab": {
          "base_uri": "https://localhost:8080/",
          "height": 282
        },
        "id": "n-7Uql99SJnj",
        "outputId": "3e072490-815f-473a-de6e-87b47df49fef"
      },
      "outputs": [
        {
          "output_type": "execute_result",
          "data": {
            "text/plain": [
              "<matplotlib.axes._subplots.AxesSubplot at 0x7fe2366c98d0>"
            ]
          },
          "metadata": {},
          "execution_count": 275
        },
        {
          "output_type": "display_data",
          "data": {
            "text/plain": [
              "<Figure size 432x288 with 2 Axes>"
            ],
            "image/png": "[encoded data removed]"
          },
          "metadata": {
            "needs_background": "light"
          }
        }
      ],
      "source": [
        "# confusion_matrix\n",
        "cm = confusion_matrix(y_test, Y_pred)\n",
        "sns.heatmap(cm, annot=True, fmt=\"d\")"
      ]
    },
    {
      "cell_type": "markdown",
      "metadata": {
        "id": "uyJNi9rnT2au"
      },
      "source": [
        "## **Implementing the CatBoost Classifier**"
      ]
    },
    {
      "cell_type": "code",
      "execution_count": 276,
      "metadata": {
        "colab": {
          "base_uri": "https://localhost:8080/",
          "height": 435
        },
        "id": "-uK9FXe6SKRN",
        "outputId": "04126e83-d988-40cd-83f8-0698f19757b9"
      },
      "outputs": [
        {
          "output_type": "stream",
          "name": "stdout",
          "text": [
            "0:\tlearn: 0.6888049\ttotal: 21ms\tremaining: 83.9ms\n",
            "1:\tlearn: 0.6846727\ttotal: 41.2ms\tremaining: 61.8ms\n",
            "2:\tlearn: 0.6821402\ttotal: 60.1ms\tremaining: 40ms\n",
            "3:\tlearn: 0.6795761\ttotal: 79.3ms\tremaining: 19.8ms\n",
            "4:\tlearn: 0.6773810\ttotal: 98.5ms\tremaining: 0us\n",
            "Accuracy 57.16\n",
            "              precision    recall  f1-score   support\n",
            "\n",
            "           0   0.565230  0.905703  0.696062      4401\n",
            "           1   0.613234  0.176692  0.274338      3724\n",
            "\n",
            "    accuracy                       0.571569      8125\n",
            "   macro avg   0.589232  0.541197  0.485200      8125\n",
            "weighted avg   0.587232  0.571569  0.502770      8125\n",
            "\n"
          ]
        },
        {
          "output_type": "execute_result",
          "data": {
            "text/plain": [
              "Predicted     0     1   All\n",
              "Actual                     \n",
              "0          3986   415  4401\n",
              "1          3066   658  3724\n",
              "All        7052  1073  8125"
            ],
            "text/html": [
              "\n",
              "  <div id=\"df-2d185a8d-8855-4cf2-8bf7-e7c37d2a6d13\">\n",
              "    <div class=\"colab-df-container\">\n",
              "      <div>\n",
              "<style scoped>\n",
              "    .dataframe tbody tr th:only-of-type {\n",
              "        vertical-align: middle;\n",
              "    }\n",
              "\n",
              "    .dataframe tbody tr th {\n",
              "        vertical-align: top;\n",
              "    }\n",
              "\n",
              "    .dataframe thead th {\n",
              "        text-align: right;\n",
              "    }\n",
              "</style>\n",
              "<table border=\"1\" class=\"dataframe\">\n",
              "  <thead>\n",
              "    <tr style=\"text-align: right;\">\n",
              "      <th>Predicted</th>\n",
              "      <th>0</th>\n",
              "      <th>1</th>\n",
              "      <th>All</th>\n",
              "    </tr>\n",
              "    <tr>\n",
              "      <th>Actual</th>\n",
              "      <th></th>\n",
              "      <th></th>\n",
              "      <th></th>\n",
              "    </tr>\n",
              "  </thead>\n",
              "  <tbody>\n",
              "    <tr>\n",
              "      <th>0</th>\n",
              "      <td>3986</td>\n",
              "      <td>415</td>\n",
              "      <td>4401</td>\n",
              "    </tr>\n",
              "    <tr>\n",
              "      <th>1</th>\n",
              "      <td>3066</td>\n",
              "      <td>658</td>\n",
              "      <td>3724</td>\n",
              "    </tr>\n",
              "    <tr>\n",
              "      <th>All</th>\n",
              "      <td>7052</td>\n",
              "      <td>1073</td>\n",
              "      <td>8125</td>\n",
              "    </tr>\n",
              "  </tbody>\n",
              "</table>\n",
              "</div>\n",
              "      <button class=\"colab-df-convert\" onclick=\"convertToInteractive('df-2d185a8d-8855-4cf2-8bf7-e7c37d2a6d13')\"\n",
              "              title=\"Convert this dataframe to an interactive table.\"\n",
              "              style=\"display:none;\">\n",
              "        \n",
              "  <svg xmlns=\"http://www.w3.org/2000/svg\" height=\"24px\"viewBox=\"0 0 24 24\"\n",
              "       width=\"24px\">\n",
              "    <path d=\"M0 0h24v24H0V0z\" fill=\"none\"/>\n",
              "    <path d=\"M18.56 5.44l.94 2.06.94-2.06 2.06-.94-2.06-.94-.94-2.06-.94 2.06-2.06.94zm-11 1L8.5 8.5l.94-2.06 2.06-.94-2.06-.94L8.5 2.5l-.94 2.06-2.06.94zm10 10l.94 2.06.94-2.06 2.06-.94-2.06-.94-.94-2.06-.94 2.06-2.06.94z\"/><path d=\"M17.41 7.96l-1.37-1.37c-.4-.4-.92-.59-1.43-.59-.52 0-1.04.2-1.43.59L10.3 9.45l-7.72 7.72c-.78.78-.78 2.05 0 2.83L4 21.41c.39.39.9.59 1.41.59.51 0 1.02-.2 1.41-.59l7.78-7.78 2.81-2.81c.8-.78.8-2.07 0-2.86zM5.41 20L4 18.59l7.72-7.72 1.47 1.35L5.41 20z\"/>\n",
              "  </svg>\n",
              "      </button>\n",
              "      \n",
              "  <style>\n",
              "    .colab-df-container {\n",
              "      display:flex;\n",
              "      flex-wrap:wrap;\n",
              "      gap: 12px;\n",
              "    }\n",
              "\n",
              "    .colab-df-convert {\n",
              "      background-color: #E8F0FE;\n",
              "      border: none;\n",
              "      border-radius: 50%;\n",
              "      cursor: pointer;\n",
              "      display: none;\n",
              "      fill: #1967D2;\n",
              "      height: 32px;\n",
              "      padding: 0 0 0 0;\n",
              "      width: 32px;\n",
              "    }\n",
              "\n",
              "    .colab-df-convert:hover {\n",
              "      background-color: #E2EBFA;\n",
              "      box-shadow: 0px 1px 2px rgba(60, 64, 67, 0.3), 0px 1px 3px 1px rgba(60, 64, 67, 0.15);\n",
              "      fill: #174EA6;\n",
              "    }\n",
              "\n",
              "    [theme=dark] .colab-df-convert {\n",
              "      background-color: #3B4455;\n",
              "      fill: #D2E3FC;\n",
              "    }\n",
              "\n",
              "    [theme=dark] .colab-df-convert:hover {\n",
              "      background-color: #434B5C;\n",
              "      box-shadow: 0px 1px 3px 1px rgba(0, 0, 0, 0.15);\n",
              "      filter: drop-shadow(0px 1px 2px rgba(0, 0, 0, 0.3));\n",
              "      fill: #FFFFFF;\n",
              "    }\n",
              "  </style>\n",
              "\n",
              "      <script>\n",
              "        const buttonEl =\n",
              "          document.querySelector('#df-2d185a8d-8855-4cf2-8bf7-e7c37d2a6d13 button.colab-df-convert');\n",
              "        buttonEl.style.display =\n",
              "          google.colab.kernel.accessAllowed ? 'block' : 'none';\n",
              "\n",
              "        async function convertToInteractive(key) {\n",
              "          const element = document.querySelector('#df-2d185a8d-8855-4cf2-8bf7-e7c37d2a6d13');\n",
              "          const dataTable =\n",
              "            await google.colab.kernel.invokeFunction('convertToInteractive',\n",
              "                                                     [key], {});\n",
              "          if (!dataTable) return;\n",
              "\n",
              "          const docLinkHtml = 'Like what you see? Visit the ' +\n",
              "            '<a target=\"_blank\" href=https://colab.research.google.com/notebooks/data_table.ipynb>data table notebook</a>'\n",
              "            + ' to learn more about interactive tables.';\n",
              "          element.innerHTML = '';\n",
              "          dataTable['output_type'] = 'display_data';\n",
              "          await google.colab.output.renderOutput(dataTable, element);\n",
              "          const docLink = document.createElement('div');\n",
              "          docLink.innerHTML = docLinkHtml;\n",
              "          element.appendChild(docLink);\n",
              "        }\n",
              "      </script>\n",
              "    </div>\n",
              "  </div>\n",
              "  "
            ]
          },
          "metadata": {},
          "execution_count": 276
        }
      ],
      "source": [
        "model = CatBoostClassifier(\n",
        "    iterations=5, \n",
        "    learning_rate=0.1\n",
        ")\n",
        "model.fit(X_train_BOW, y_train)\n",
        "\n",
        "# Evaluate predictions\n",
        "Y_pred = model.predict(X_test_BOW)\n",
        "acc_decision_CB = round(model.score(X_test_BOW, y_test) * 100, 2)\n",
        "# Printing the Classification Report\n",
        "sk_report = classification_report(\n",
        "    digits=6,\n",
        "    y_true=y_test, \n",
        "    y_pred=Y_pred)\n",
        "print(\"Accuracy\", acc_decision_CB)\n",
        "print(sk_report)\n",
        "pd.crosstab(y_test, Y_pred, rownames=['Actual'], colnames=['Predicted'], margins=True)"
      ]
    },
    {
      "cell_type": "markdown",
      "metadata": {
        "id": "AdPPhKSJURe6"
      },
      "source": [
        "## **Creating the ROC Curve**"
      ]
    },
    {
      "cell_type": "code",
      "execution_count": 277,
      "metadata": {
        "colab": {
          "base_uri": "https://localhost:8080/",
          "height": 312
        },
        "id": "WQu-x4OsSKUK",
        "outputId": "20236fa8-7c77-44d5-cd54-ce0179ca2956"
      },
      "outputs": [
        {
          "output_type": "stream",
          "name": "stdout",
          "text": [
            "Cat Boost Classifier Prediction: AUROC = 0.605\n"
          ]
        },
        {
          "output_type": "display_data",
          "data": {
            "text/plain": [
              "<Figure size 432x288 with 1 Axes>"
            ],
            "image/png": "[encoded data removed]"
          },
          "metadata": {
            "needs_background": "light"
          }
        }
      ],
      "source": [
        "r_probs = [0 for _ in range(len(y_test))]\n",
        "rf_probs = model.predict_proba(X_test_BOW)\n",
        "rf_probs = rf_probs[:, 1]\n",
        "rf_auc = roc_auc_score(y_test, rf_probs)\n",
        "r_auc = roc_auc_score(y_test, r_probs)\n",
        "print('Cat Boost Classifier Prediction: AUROC = %.3f' % (rf_auc))\n",
        "r_fpr, r_tpr, _ = roc_curve(y_test, r_probs)\n",
        "rf_fpr, rf_tpr, _ = roc_curve(y_test, rf_probs)\n",
        "\n",
        "plt.plot(r_fpr, r_tpr, linestyle='--', label='Random prediction (AUROC = %0.3f)' % r_auc)\n",
        "plt.plot(rf_fpr, rf_tpr, linestyle='--', label='Cat Boost Classifier prediction (AUROC = %0.3f)' % rf_auc)\n",
        "# Title\n",
        "plt.title('ROC Plot')\n",
        "# Axis labels\n",
        "plt.xlabel('False Positive Rate')\n",
        "plt.ylabel('True Positive Rate')\n",
        "# Show legend\n",
        "plt.legend() # \n",
        "# Show plot\n",
        "plt.show()"
      ]
    },
    {
      "cell_type": "markdown",
      "metadata": {
        "id": "PXUxHKUUUWbX"
      },
      "source": [
        "## **Confusion Matrix**"
      ]
    },
    {
      "cell_type": "code",
      "execution_count": 278,
      "metadata": {
        "colab": {
          "base_uri": "https://localhost:8080/",
          "height": 282
        },
        "id": "YvrlRso_SKZD",
        "outputId": "c2ba75bf-de37-438e-8ec3-7edb993731b5"
      },
      "outputs": [
        {
          "output_type": "execute_result",
          "data": {
            "text/plain": [
              "<matplotlib.axes._subplots.AxesSubplot at 0x7fe1ad0f1990>"
            ]
          },
          "metadata": {},
          "execution_count": 278
        },
        {
          "output_type": "display_data",
          "data": {
            "text/plain": [
              "<Figure size 432x288 with 2 Axes>"
            ],
            "image/png": "[encoded data removed]"
          },
          "metadata": {
            "needs_background": "light"
          }
        }
      ],
      "source": [
        "# confusion_matrix\n",
        "cm = confusion_matrix(y_test, Y_pred)\n",
        "sns.heatmap(cm, annot=True, fmt=\"d\")"
      ]
    },
    {
      "cell_type": "markdown",
      "metadata": {
        "id": "K446EP6MV5AD"
      },
      "source": [
        "## **Implementing the TF-IDF**"
      ]
    },
    {
      "cell_type": "code",
      "execution_count": 279,
      "metadata": {
        "id": "LWlOXnARSKdd"
      },
      "outputs": [],
      "source": [
        "tfidf_vectorizer = TfidfVectorizer(use_idf=True, max_features = 2000)"
      ]
    },
    {
      "cell_type": "code",
      "execution_count": 280,
      "metadata": {
        "id": "fSbMUv3NQ5Tp"
      },
      "outputs": [],
      "source": [
        "X_train_vectors_tfidf = tfidf_vectorizer.fit_transform(X_train) \n",
        "X_test_vectors_tfidf = tfidf_vectorizer.transform(X_test)"
      ]
    },
    {
      "cell_type": "markdown",
      "metadata": {
        "id": "oQEPCjNCWesY"
      },
      "source": [
        "## **Implementing the Random Forest Classifier**"
      ]
    },
    {
      "cell_type": "code",
      "execution_count": 281,
      "metadata": {
        "colab": {
          "base_uri": "https://localhost:8080/",
          "height": 348
        },
        "id": "4aVcIgaHWc-2",
        "outputId": "d3e799c9-9943-45ab-84dd-4da2d978118e"
      },
      "outputs": [
        {
          "output_type": "stream",
          "name": "stdout",
          "text": [
            "Accuracy 68.94\n",
            "              precision    recall  f1-score   support\n",
            "\n",
            "           0   0.693785  0.763463  0.726958      4401\n",
            "           1   0.682815  0.601772  0.639737      3724\n",
            "\n",
            "    accuracy                       0.689354      8125\n",
            "   macro avg   0.688300  0.682618  0.683348      8125\n",
            "weighted avg   0.688757  0.689354  0.686981      8125\n",
            "\n"
          ]
        },
        {
          "output_type": "execute_result",
          "data": {
            "text/plain": [
              "Predicted     0     1   All\n",
              "Actual                     \n",
              "0          3360  1041  4401\n",
              "1          1483  2241  3724\n",
              "All        4843  3282  8125"
            ],
            "text/html": [
              "\n",
              "  <div id=\"df-9d06a559-d1fc-439b-ba49-95091fb20a50\">\n",
              "    <div class=\"colab-df-container\">\n",
              "      <div>\n",
              "<style scoped>\n",
              "    .dataframe tbody tr th:only-of-type {\n",
              "        vertical-align: middle;\n",
              "    }\n",
              "\n",
              "    .dataframe tbody tr th {\n",
              "        vertical-align: top;\n",
              "    }\n",
              "\n",
              "    .dataframe thead th {\n",
              "        text-align: right;\n",
              "    }\n",
              "</style>\n",
              "<table border=\"1\" class=\"dataframe\">\n",
              "  <thead>\n",
              "    <tr style=\"text-align: right;\">\n",
              "      <th>Predicted</th>\n",
              "      <th>0</th>\n",
              "      <th>1</th>\n",
              "      <th>All</th>\n",
              "    </tr>\n",
              "    <tr>\n",
              "      <th>Actual</th>\n",
              "      <th></th>\n",
              "      <th></th>\n",
              "      <th></th>\n",
              "    </tr>\n",
              "  </thead>\n",
              "  <tbody>\n",
              "    <tr>\n",
              "      <th>0</th>\n",
              "      <td>3360</td>\n",
              "      <td>1041</td>\n",
              "      <td>4401</td>\n",
              "    </tr>\n",
              "    <tr>\n",
              "      <th>1</th>\n",
              "      <td>1483</td>\n",
              "      <td>2241</td>\n",
              "      <td>3724</td>\n",
              "    </tr>\n",
              "    <tr>\n",
              "      <th>All</th>\n",
              "      <td>4843</td>\n",
              "      <td>3282</td>\n",
              "      <td>8125</td>\n",
              "    </tr>\n",
              "  </tbody>\n",
              "</table>\n",
              "</div>\n",
              "      <button class=\"colab-df-convert\" onclick=\"convertToInteractive('df-9d06a559-d1fc-439b-ba49-95091fb20a50')\"\n",
              "              title=\"Convert this dataframe to an interactive table.\"\n",
              "              style=\"display:none;\">\n",
              "        \n",
              "  <svg xmlns=\"http://www.w3.org/2000/svg\" height=\"24px\"viewBox=\"0 0 24 24\"\n",
              "       width=\"24px\">\n",
              "    <path d=\"M0 0h24v24H0V0z\" fill=\"none\"/>\n",
              "    <path d=\"M18.56 5.44l.94 2.06.94-2.06 2.06-.94-2.06-.94-.94-2.06-.94 2.06-2.06.94zm-11 1L8.5 8.5l.94-2.06 2.06-.94-2.06-.94L8.5 2.5l-.94 2.06-2.06.94zm10 10l.94 2.06.94-2.06 2.06-.94-2.06-.94-.94-2.06-.94 2.06-2.06.94z\"/><path d=\"M17.41 7.96l-1.37-1.37c-.4-.4-.92-.59-1.43-.59-.52 0-1.04.2-1.43.59L10.3 9.45l-7.72 7.72c-.78.78-.78 2.05 0 2.83L4 21.41c.39.39.9.59 1.41.59.51 0 1.02-.2 1.41-.59l7.78-7.78 2.81-2.81c.8-.78.8-2.07 0-2.86zM5.41 20L4 18.59l7.72-7.72 1.47 1.35L5.41 20z\"/>\n",
              "  </svg>\n",
              "      </button>\n",
              "      \n",
              "  <style>\n",
              "    .colab-df-container {\n",
              "      display:flex;\n",
              "      flex-wrap:wrap;\n",
              "      gap: 12px;\n",
              "    }\n",
              "\n",
              "    .colab-df-convert {\n",
              "      background-color: #E8F0FE;\n",
              "      border: none;\n",
              "      border-radius: 50%;\n",
              "      cursor: pointer;\n",
              "      display: none;\n",
              "      fill: #1967D2;\n",
              "      height: 32px;\n",
              "      padding: 0 0 0 0;\n",
              "      width: 32px;\n",
              "    }\n",
              "\n",
              "    .colab-df-convert:hover {\n",
              "      background-color: #E2EBFA;\n",
              "      box-shadow: 0px 1px 2px rgba(60, 64, 67, 0.3), 0px 1px 3px 1px rgba(60, 64, 67, 0.15);\n",
              "      fill: #174EA6;\n",
              "    }\n",
              "\n",
              "    [theme=dark] .colab-df-convert {\n",
              "      background-color: #3B4455;\n",
              "      fill: #D2E3FC;\n",
              "    }\n",
              "\n",
              "    [theme=dark] .colab-df-convert:hover {\n",
              "      background-color: #434B5C;\n",
              "      box-shadow: 0px 1px 3px 1px rgba(0, 0, 0, 0.15);\n",
              "      filter: drop-shadow(0px 1px 2px rgba(0, 0, 0, 0.3));\n",
              "      fill: #FFFFFF;\n",
              "    }\n",
              "  </style>\n",
              "\n",
              "      <script>\n",
              "        const buttonEl =\n",
              "          document.querySelector('#df-9d06a559-d1fc-439b-ba49-95091fb20a50 button.colab-df-convert');\n",
              "        buttonEl.style.display =\n",
              "          google.colab.kernel.accessAllowed ? 'block' : 'none';\n",
              "\n",
              "        async function convertToInteractive(key) {\n",
              "          const element = document.querySelector('#df-9d06a559-d1fc-439b-ba49-95091fb20a50');\n",
              "          const dataTable =\n",
              "            await google.colab.kernel.invokeFunction('convertToInteractive',\n",
              "                                                     [key], {});\n",
              "          if (!dataTable) return;\n",
              "\n",
              "          const docLinkHtml = 'Like what you see? Visit the ' +\n",
              "            '<a target=\"_blank\" href=https://colab.research.google.com/notebooks/data_table.ipynb>data table notebook</a>'\n",
              "            + ' to learn more about interactive tables.';\n",
              "          element.innerHTML = '';\n",
              "          dataTable['output_type'] = 'display_data';\n",
              "          await google.colab.output.renderOutput(dataTable, element);\n",
              "          const docLink = document.createElement('div');\n",
              "          docLink.innerHTML = docLinkHtml;\n",
              "          element.appendChild(docLink);\n",
              "        }\n",
              "      </script>\n",
              "    </div>\n",
              "  </div>\n",
              "  "
            ]
          },
          "metadata": {},
          "execution_count": 281
        }
      ],
      "source": [
        "# Create and fit the random forest\n",
        "model = RandomForestClassifier()\n",
        "model.fit(X_train_vectors_tfidf, y_train)\n",
        "\n",
        "# Evaluate predictions\n",
        "Y_pred = model.predict(X_test_vectors_tfidf)\n",
        "acc_decision_RF = round(model.score(X_test_vectors_tfidf, y_test) * 100, 2)\n",
        "# Printing the Classification Report\n",
        "sk_report = classification_report(\n",
        "    digits=6,\n",
        "    y_true=y_test, \n",
        "    y_pred=Y_pred)\n",
        "print(\"Accuracy\", acc_decision_RF)\n",
        "print(sk_report)\n",
        "pd.crosstab(y_test, Y_pred, rownames=['Actual'], colnames=['Predicted'], margins=True)"
      ]
    },
    {
      "cell_type": "markdown",
      "metadata": {
        "id": "rSsFvA4PXFF5"
      },
      "source": [
        "## **ROC Curve**"
      ]
    },
    {
      "cell_type": "code",
      "execution_count": 282,
      "metadata": {
        "colab": {
          "base_uri": "https://localhost:8080/",
          "height": 312
        },
        "id": "V2voUAZjW7Ww",
        "outputId": "e9306b23-6506-4085-97e0-ec18de19b926"
      },
      "outputs": [
        {
          "output_type": "stream",
          "name": "stdout",
          "text": [
            "Random Forest Classifier Prediction: AUROC = 0.758\n"
          ]
        },
        {
          "output_type": "display_data",
          "data": {
            "text/plain": [
              "<Figure size 432x288 with 1 Axes>"
            ],
            "image/png": "[encoded data removed]"
          },
          "metadata": {
            "needs_background": "light"
          }
        }
      ],
      "source": [
        "r_probs = [0 for _ in range(len(y_test))]\n",
        "rf_probs = model.predict_proba(X_test_vectors_tfidf)\n",
        "rf_probs = rf_probs[:, 1]\n",
        "rf_auc = roc_auc_score(y_test, rf_probs)\n",
        "r_auc = roc_auc_score(y_test, r_probs)\n",
        "print('Random Forest Classifier Prediction: AUROC = %.3f' % (rf_auc))\n",
        "r_fpr, r_tpr, _ = roc_curve(y_test, r_probs)\n",
        "rf_fpr, rf_tpr, _ = roc_curve(y_test, rf_probs)\n",
        "\n",
        "plt.plot(r_fpr, r_tpr, linestyle='--', label='Random prediction (AUROC = %0.3f)' % r_auc)\n",
        "plt.plot(rf_fpr, rf_tpr, linestyle='--', label='Random Forest Classifier prediction (AUROC = %0.3f)' % rf_auc)\n",
        "# Title\n",
        "plt.title('ROC Plot')\n",
        "# Axis labels\n",
        "plt.xlabel('False Positive Rate')\n",
        "plt.ylabel('True Positive Rate')\n",
        "# Show legend\n",
        "plt.legend() # \n",
        "# Show plot\n",
        "plt.show()"
      ]
    },
    {
      "cell_type": "markdown",
      "metadata": {
        "id": "gqYczLwGXwWI"
      },
      "source": [
        "## **Confusion Matrix**"
      ]
    },
    {
      "cell_type": "code",
      "execution_count": 283,
      "metadata": {
        "colab": {
          "base_uri": "https://localhost:8080/",
          "height": 282
        },
        "id": "OfsTh6BeXzdL",
        "outputId": "5ae10fb1-ec01-4177-b6c4-9d59479773f7"
      },
      "outputs": [
        {
          "output_type": "execute_result",
          "data": {
            "text/plain": [
              "<matplotlib.axes._subplots.AxesSubplot at 0x7fe19d4ba950>"
            ]
          },
          "metadata": {},
          "execution_count": 283
        },
        {
          "output_type": "display_data",
          "data": {
            "text/plain": [
              "<Figure size 432x288 with 2 Axes>"
            ],
            "image/png": "[encoded data removed]"
          },
          "metadata": {
            "needs_background": "light"
          }
        }
      ],
      "source": [
        "# confusion_matrix\n",
        "cm = confusion_matrix(y_test, Y_pred)\n",
        "sns.heatmap(cm, annot=True, fmt=\"d\")"
      ]
    },
    {
      "cell_type": "markdown",
      "metadata": {
        "id": "RFtXzDG_YL69"
      },
      "source": [
        "# Implementing the Decision Tree Classiifer"
      ]
    },
    {
      "cell_type": "code",
      "execution_count": 284,
      "metadata": {
        "colab": {
          "base_uri": "https://localhost:8080/",
          "height": 348
        },
        "id": "2Qv9HGFzYPoQ",
        "outputId": "f3433ed6-5f44-4a61-c6f1-ff40c61fba8c"
      },
      "outputs": [
        {
          "output_type": "stream",
          "name": "stdout",
          "text": [
            "Accuracy 65.99\n",
            "              precision    recall  f1-score   support\n",
            "\n",
            "           0   0.671053  0.730061  0.699314      4401\n",
            "           1   0.643992  0.577068  0.608696      3724\n",
            "\n",
            "    accuracy                       0.659938      8125\n",
            "   macro avg   0.657522  0.653565  0.654005      8125\n",
            "weighted avg   0.658650  0.659938  0.657780      8125\n",
            "\n"
          ]
        },
        {
          "output_type": "execute_result",
          "data": {
            "text/plain": [
              "Predicted     0     1   All\n",
              "Actual                     \n",
              "0          3213  1188  4401\n",
              "1          1575  2149  3724\n",
              "All        4788  3337  8125"
            ],
            "text/html": [
              "\n",
              "  <div id=\"df-dfa25fe8-c91e-499a-98bf-77c7269815dc\">\n",
              "    <div class=\"colab-df-container\">\n",
              "      <div>\n",
              "<style scoped>\n",
              "    .dataframe tbody tr th:only-of-type {\n",
              "        vertical-align: middle;\n",
              "    }\n",
              "\n",
              "    .dataframe tbody tr th {\n",
              "        vertical-align: top;\n",
              "    }\n",
              "\n",
              "    .dataframe thead th {\n",
              "        text-align: right;\n",
              "    }\n",
              "</style>\n",
              "<table border=\"1\" class=\"dataframe\">\n",
              "  <thead>\n",
              "    <tr style=\"text-align: right;\">\n",
              "      <th>Predicted</th>\n",
              "      <th>0</th>\n",
              "      <th>1</th>\n",
              "      <th>All</th>\n",
              "    </tr>\n",
              "    <tr>\n",
              "      <th>Actual</th>\n",
              "      <th></th>\n",
              "      <th></th>\n",
              "      <th></th>\n",
              "    </tr>\n",
              "  </thead>\n",
              "  <tbody>\n",
              "    <tr>\n",
              "      <th>0</th>\n",
              "      <td>3213</td>\n",
              "      <td>1188</td>\n",
              "      <td>4401</td>\n",
              "    </tr>\n",
              "    <tr>\n",
              "      <th>1</th>\n",
              "      <td>1575</td>\n",
              "      <td>2149</td>\n",
              "      <td>3724</td>\n",
              "    </tr>\n",
              "    <tr>\n",
              "      <th>All</th>\n",
              "      <td>4788</td>\n",
              "      <td>3337</td>\n",
              "      <td>8125</td>\n",
              "    </tr>\n",
              "  </tbody>\n",
              "</table>\n",
              "</div>\n",
              "      <button class=\"colab-df-convert\" onclick=\"convertToInteractive('df-dfa25fe8-c91e-499a-98bf-77c7269815dc')\"\n",
              "              title=\"Convert this dataframe to an interactive table.\"\n",
              "              style=\"display:none;\">\n",
              "        \n",
              "  <svg xmlns=\"http://www.w3.org/2000/svg\" height=\"24px\"viewBox=\"0 0 24 24\"\n",
              "       width=\"24px\">\n",
              "    <path d=\"M0 0h24v24H0V0z\" fill=\"none\"/>\n",
              "    <path d=\"M18.56 5.44l.94 2.06.94-2.06 2.06-.94-2.06-.94-.94-2.06-.94 2.06-2.06.94zm-11 1L8.5 8.5l.94-2.06 2.06-.94-2.06-.94L8.5 2.5l-.94 2.06-2.06.94zm10 10l.94 2.06.94-2.06 2.06-.94-2.06-.94-.94-2.06-.94 2.06-2.06.94z\"/><path d=\"M17.41 7.96l-1.37-1.37c-.4-.4-.92-.59-1.43-.59-.52 0-1.04.2-1.43.59L10.3 9.45l-7.72 7.72c-.78.78-.78 2.05 0 2.83L4 21.41c.39.39.9.59 1.41.59.51 0 1.02-.2 1.41-.59l7.78-7.78 2.81-2.81c.8-.78.8-2.07 0-2.86zM5.41 20L4 18.59l7.72-7.72 1.47 1.35L5.41 20z\"/>\n",
              "  </svg>\n",
              "      </button>\n",
              "      \n",
              "  <style>\n",
              "    .colab-df-container {\n",
              "      display:flex;\n",
              "      flex-wrap:wrap;\n",
              "      gap: 12px;\n",
              "    }\n",
              "\n",
              "    .colab-df-convert {\n",
              "      background-color: #E8F0FE;\n",
              "      border: none;\n",
              "      border-radius: 50%;\n",
              "      cursor: pointer;\n",
              "      display: none;\n",
              "      fill: #1967D2;\n",
              "      height: 32px;\n",
              "      padding: 0 0 0 0;\n",
              "      width: 32px;\n",
              "    }\n",
              "\n",
              "    .colab-df-convert:hover {\n",
              "      background-color: #E2EBFA;\n",
              "      box-shadow: 0px 1px 2px rgba(60, 64, 67, 0.3), 0px 1px 3px 1px rgba(60, 64, 67, 0.15);\n",
              "      fill: #174EA6;\n",
              "    }\n",
              "\n",
              "    [theme=dark] .colab-df-convert {\n",
              "      background-color: #3B4455;\n",
              "      fill: #D2E3FC;\n",
              "    }\n",
              "\n",
              "    [theme=dark] .colab-df-convert:hover {\n",
              "      background-color: #434B5C;\n",
              "      box-shadow: 0px 1px 3px 1px rgba(0, 0, 0, 0.15);\n",
              "      filter: drop-shadow(0px 1px 2px rgba(0, 0, 0, 0.3));\n",
              "      fill: #FFFFFF;\n",
              "    }\n",
              "  </style>\n",
              "\n",
              "      <script>\n",
              "        const buttonEl =\n",
              "          document.querySelector('#df-dfa25fe8-c91e-499a-98bf-77c7269815dc button.colab-df-convert');\n",
              "        buttonEl.style.display =\n",
              "          google.colab.kernel.accessAllowed ? 'block' : 'none';\n",
              "\n",
              "        async function convertToInteractive(key) {\n",
              "          const element = document.querySelector('#df-dfa25fe8-c91e-499a-98bf-77c7269815dc');\n",
              "          const dataTable =\n",
              "            await google.colab.kernel.invokeFunction('convertToInteractive',\n",
              "                                                     [key], {});\n",
              "          if (!dataTable) return;\n",
              "\n",
              "          const docLinkHtml = 'Like what you see? Visit the ' +\n",
              "            '<a target=\"_blank\" href=https://colab.research.google.com/notebooks/data_table.ipynb>data table notebook</a>'\n",
              "            + ' to learn more about interactive tables.';\n",
              "          element.innerHTML = '';\n",
              "          dataTable['output_type'] = 'display_data';\n",
              "          await google.colab.output.renderOutput(dataTable, element);\n",
              "          const docLink = document.createElement('div');\n",
              "          docLink.innerHTML = docLinkHtml;\n",
              "          element.appendChild(docLink);\n",
              "        }\n",
              "      </script>\n",
              "    </div>\n",
              "  </div>\n",
              "  "
            ]
          },
          "metadata": {},
          "execution_count": 284
        }
      ],
      "source": [
        "# Create and fit the random forest\n",
        "model = DecisionTreeClassifier()\n",
        "model.fit(X_train_vectors_tfidf, y_train)\n",
        "\n",
        "# Evaluate predictions\n",
        "Y_pred = model.predict(X_test_vectors_tfidf)\n",
        "acc_decision_RF = round(model.score(X_test_vectors_tfidf, y_test) * 100, 2)\n",
        "# Printing the Classification Report\n",
        "sk_report = classification_report(\n",
        "    digits=6,\n",
        "    y_true=y_test, \n",
        "    y_pred=Y_pred)\n",
        "print(\"Accuracy\", acc_decision_RF)\n",
        "print(sk_report)\n",
        "pd.crosstab(y_test, Y_pred, rownames=['Actual'], colnames=['Predicted'], margins=True)"
      ]
    },
    {
      "cell_type": "code",
      "execution_count": 285,
      "metadata": {
        "colab": {
          "base_uri": "https://localhost:8080/",
          "height": 312
        },
        "id": "icZ_xKbtaBuS",
        "outputId": "e7b46066-7525-4505-d6e3-6a5cc72544cb"
      },
      "outputs": [
        {
          "output_type": "stream",
          "name": "stdout",
          "text": [
            "Decision Tree Classifier Prediction: AUROC = 0.653\n"
          ]
        },
        {
          "output_type": "display_data",
          "data": {
            "text/plain": [
              "<Figure size 432x288 with 1 Axes>"
            ],
            "image/png": "[encoded data removed]"
          },
          "metadata": {
            "needs_background": "light"
          }
        }
      ],
      "source": [
        "r_probs = [0 for _ in range(len(y_test))]\n",
        "rf_probs = model.predict_proba(X_test_vectors_tfidf)\n",
        "rf_probs = rf_probs[:, 1]\n",
        "rf_auc = roc_auc_score(y_test, rf_probs)\n",
        "r_auc = roc_auc_score(y_test, r_probs)\n",
        "print('Decision Tree Classifier Prediction: AUROC = %.3f' % (rf_auc))\n",
        "r_fpr, r_tpr, _ = roc_curve(y_test, r_probs)\n",
        "rf_fpr, rf_tpr, _ = roc_curve(y_test, rf_probs)\n",
        "\n",
        "plt.plot(r_fpr, r_tpr, linestyle='--', label='Random prediction (AUROC = %0.3f)' % r_auc)\n",
        "plt.plot(rf_fpr, rf_tpr, linestyle='--', label='Decision Tree Classifier prediction (AUROC = %0.3f)' % rf_auc)\n",
        "# Title\n",
        "plt.title('ROC Plot')\n",
        "# Axis labels\n",
        "plt.xlabel('False Positive Rate')\n",
        "plt.ylabel('True Positive Rate')\n",
        "# Show legend\n",
        "plt.legend() # \n",
        "# Show plot\n",
        "plt.show()"
      ]
    },
    {
      "cell_type": "code",
      "execution_count": 286,
      "metadata": {
        "colab": {
          "base_uri": "https://localhost:8080/",
          "height": 282
        },
        "id": "oUdAa02-aJwW",
        "outputId": "0e163930-b248-4aa9-bb2e-d05846e4ed4e"
      },
      "outputs": [
        {
          "output_type": "execute_result",
          "data": {
            "text/plain": [
              "<matplotlib.axes._subplots.AxesSubplot at 0x7fe1ad747b50>"
            ]
          },
          "metadata": {},
          "execution_count": 286
        },
        {
          "output_type": "display_data",
          "data": {
            "text/plain": [
              "<Figure size 432x288 with 2 Axes>"
            ],
            "image/png": "[encoded data removed]"
          },
          "metadata": {
            "needs_background": "light"
          }
        }
      ],
      "source": [
        "# confusion_matrix\n",
        "cm = confusion_matrix(y_test, Y_pred)\n",
        "sns.heatmap(cm, annot=True, fmt=\"d\")"
      ]
    },
    {
      "cell_type": "markdown",
      "metadata": {
        "id": "xaWCr8O9aQqZ"
      },
      "source": [
        "### **Implementing the Tokenizer**"
      ]
    },
    {
      "cell_type": "code",
      "execution_count": 287,
      "metadata": {
        "id": "LkpD0YaaaMvy"
      },
      "outputs": [],
      "source": [
        "## Tokenize the sentences\n",
        "tokenizer = Tokenizer(num_words = 20294)\n",
        "tokenizer.fit_on_texts(list(X_train)+ list(X_test))"
      ]
    },
    {
      "cell_type": "code",
      "execution_count": 288,
      "metadata": {
        "id": "aW3Lxq-DaeTQ"
      },
      "outputs": [],
      "source": [
        "vocab_size = len(tokenizer.word_index) + 1"
      ]
    },
    {
      "cell_type": "code",
      "execution_count": 289,
      "metadata": {
        "colab": {
          "base_uri": "https://localhost:8080/"
        },
        "id": "tbDEWof1agaY",
        "outputId": "f4d9447a-e005-44f1-e5cb-e96e73b47b5e"
      },
      "outputs": [
        {
          "output_type": "execute_result",
          "data": {
            "text/plain": [
              "20294"
            ]
          },
          "metadata": {},
          "execution_count": 289
        }
      ],
      "source": [
        "len(tokenizer.word_index)"
      ]
    },
    {
      "cell_type": "code",
      "execution_count": 290,
      "metadata": {
        "colab": {
          "base_uri": "https://localhost:8080/"
        },
        "id": "yjciBtjQai5x",
        "outputId": "2c385d02-7bb6-42c6-fb13-86528824b1f1"
      },
      "outputs": [
        {
          "output_type": "execute_result",
          "data": {
            "text/plain": [
              "{'people': 1,\n",
              " 'black': 2,\n",
              " 'women': 3,\n",
              " 'fucking': 4,\n",
              " 'like': 5,\n",
              " 'love': 6,\n",
              " 'think': 7,\n",
              " 'would': 8,\n",
              " 'white': 9,\n",
              " 'get': 10,\n",
              " 'want': 11,\n",
              " 'one': 12,\n",
              " 'everyone': 13,\n",
              " 'men': 14,\n",
              " 'hate': 15,\n",
              " 'know': 16,\n",
              " 'country': 17,\n",
              " 'really': 18,\n",
              " 'fuck': 19,\n",
              " 'shit': 20,\n",
              " 'many': 21,\n",
              " 'world': 22,\n",
              " 'wrong': 23,\n",
              " 'go': 24,\n",
              " 'muslims': 25,\n",
              " 'much': 26,\n",
              " 'say': 27,\n",
              " 'let': 28,\n",
              " 'even': 29,\n",
              " 'feel': 30,\n",
              " 'see': 31,\n",
              " 'need': 32,\n",
              " 'woman': 33,\n",
              " 'getting': 34,\n",
              " 'man': 35,\n",
              " 'never': 36,\n",
              " 'anyone': 37,\n",
              " 'us': 38,\n",
              " 'stop': 39,\n",
              " 'time': 40,\n",
              " 'good': 41,\n",
              " 'tell': 42,\n",
              " 'jews': 43,\n",
              " 'already': 44,\n",
              " 'around': 45,\n",
              " 'trans': 46,\n",
              " 'gay': 47,\n",
              " 'nothing': 48,\n",
              " 'make': 49,\n",
              " 'allowed': 50,\n",
              " 'way': 51,\n",
              " 'look': 52,\n",
              " 'lot': 53,\n",
              " 'talk': 54,\n",
              " 'society': 55,\n",
              " 'immigrants': 56,\n",
              " 'always': 57,\n",
              " 'blacks': 58,\n",
              " 'back': 59,\n",
              " 'right': 60,\n",
              " 'chinese': 61,\n",
              " 'call': 62,\n",
              " 'going': 63,\n",
              " 'nice': 64,\n",
              " 'opinion': 65,\n",
              " 'every': 66,\n",
              " 'stupid': 67,\n",
              " 'common': 68,\n",
              " 'else': 69,\n",
              " 'life': 70,\n",
              " 'come': 71,\n",
              " 'muslim': 72,\n",
              " 'live': 73,\n",
              " 'understand': 74,\n",
              " 'idea': 75,\n",
              " 'work': 76,\n",
              " 'could': 77,\n",
              " 'take': 78,\n",
              " 'kids': 79,\n",
              " 'someone': 80,\n",
              " 'person': 81,\n",
              " 'called': 82,\n",
              " 'thing': 83,\n",
              " 'race': 84,\n",
              " 'disgusting': 85,\n",
              " 'new': 86,\n",
              " 'actually': 87,\n",
              " 'best': 88,\n",
              " 'well': 89,\n",
              " 'got': 90,\n",
              " 'die': 91,\n",
              " 'exist': 92,\n",
              " 'free': 93,\n",
              " 'word': 94,\n",
              " 'today': 95,\n",
              " 'better': 96,\n",
              " 'makes': 97,\n",
              " 'still': 98,\n",
              " 'toward': 99,\n",
              " 'friends': 100,\n",
              " 'reasons': 101,\n",
              " 'said': 102,\n",
              " 'also': 103,\n",
              " 'believe': 104,\n",
              " 'cannot': 105,\n",
              " 'rude': 106,\n",
              " 'real': 107,\n",
              " 'years': 108,\n",
              " 'racist': 109,\n",
              " 'school': 110,\n",
              " 'family': 111,\n",
              " 'saying': 112,\n",
              " 'refugees': 113,\n",
              " 'something': 114,\n",
              " 'disabled': 115,\n",
              " 'day': 116,\n",
              " 'jewish': 117,\n",
              " 'friend': 118,\n",
              " 'children': 119,\n",
              " 'asian': 120,\n",
              " 'opinions': 121,\n",
              " 'kill': 122,\n",
              " 'disagree': 123,\n",
              " 'ever': 124,\n",
              " 'gays': 125,\n",
              " 'anything': 126,\n",
              " 'money': 127,\n",
              " 'things': 128,\n",
              " 'wish': 129,\n",
              " 'two': 130,\n",
              " 'leave': 131,\n",
              " 'cunts': 132,\n",
              " 'evil': 133,\n",
              " 'place': 134,\n",
              " 'must': 135,\n",
              " 'sense': 136,\n",
              " 'shame': 137,\n",
              " 'used': 138,\n",
              " 'mean': 139,\n",
              " 'making': 140,\n",
              " 'use': 141,\n",
              " 'old': 142,\n",
              " 'bad': 143,\n",
              " 'everything': 144,\n",
              " 'annoying': 145,\n",
              " 'useless': 146,\n",
              " 'keep': 147,\n",
              " 'great': 148,\n",
              " 'bitch': 149,\n",
              " 'full': 150,\n",
              " 'find': 151,\n",
              " 'deserve': 152,\n",
              " 'looking': 153,\n",
              " 'enough': 154,\n",
              " 'using': 155,\n",
              " 'home': 156,\n",
              " 'scum': 157,\n",
              " 'rights': 158,\n",
              " 'lesbians': 159,\n",
              " 'whites': 160,\n",
              " 'ridiculous': 161,\n",
              " 'agree': 162,\n",
              " 'explain': 163,\n",
              " 'aware': 164,\n",
              " 'dont': 165,\n",
              " 'area': 166,\n",
              " 'girls': 167,\n",
              " 'living': 168,\n",
              " 'ugly': 169,\n",
              " 'hard': 170,\n",
              " 'lie': 171,\n",
              " 'less': 172,\n",
              " 'care': 173,\n",
              " 'beautiful': 174,\n",
              " 'first': 175,\n",
              " 'god': 176,\n",
              " 'foreigners': 177,\n",
              " 'hatred': 178,\n",
              " 'put': 179,\n",
              " 'fact': 180,\n",
              " 'dirty': 181,\n",
              " 'government': 182,\n",
              " 'covid': 183,\n",
              " 'happy': 184,\n",
              " 'problem': 185,\n",
              " 'neighbour': 186,\n",
              " 'british': 187,\n",
              " 'non': 188,\n",
              " 'alone': 189,\n",
              " 'sex': 190,\n",
              " 'absolutely': 191,\n",
              " 'without': 192,\n",
              " 'another': 193,\n",
              " 'loves': 194,\n",
              " 'concepts': 195,\n",
              " 'sick': 196,\n",
              " 'made': 197,\n",
              " 'obvious': 198,\n",
              " 'course': 199,\n",
              " 'piece': 200,\n",
              " 'matter': 201,\n",
              " 'hope': 202,\n",
              " 'amazing': 203,\n",
              " 'easy': 204,\n",
              " 'group': 205,\n",
              " 'death': 206,\n",
              " 'sucks': 207,\n",
              " 'knowledge': 208,\n",
              " 'give': 209,\n",
              " 'little': 210,\n",
              " 'next': 211,\n",
              " 'house': 212,\n",
              " 'away': 213,\n",
              " 'sure': 214,\n",
              " 'comments': 215,\n",
              " '0': 216,\n",
              " 'single': 217,\n",
              " 'guy': 218,\n",
              " 'end': 219,\n",
              " '5': 220,\n",
              " 'thinks': 221,\n",
              " 'needs': 222,\n",
              " 'others': 223,\n",
              " 'indians': 224,\n",
              " 'guys': 225,\n",
              " 'express': 226,\n",
              " 'far': 227,\n",
              " 'issue': 228,\n",
              " 'face': 229,\n",
              " 'try': 230,\n",
              " 'oh': 231,\n",
              " 'speech': 232,\n",
              " 'reason': 233,\n",
              " 'working': 234,\n",
              " 'trump': 235,\n",
              " 'hell': 236,\n",
              " 'differentiate': 237,\n",
              " 'earth': 238,\n",
              " 'yet': 239,\n",
              " 'informing': 240,\n",
              " 'long': 241,\n",
              " 'asians': 242,\n",
              " 'dislike': 243,\n",
              " 'culture': 244,\n",
              " 'point': 245,\n",
              " 'worse': 246,\n",
              " 'female': 247,\n",
              " 'uk': 248,\n",
              " 'left': 249,\n",
              " 'fault': 250,\n",
              " 'big': 251,\n",
              " 'disliking': 252,\n",
              " 'seen': 253,\n",
              " 'term': 254,\n",
              " 'says': 255,\n",
              " 'arabs': 256,\n",
              " 'however': 257,\n",
              " 'food': 258,\n",
              " 'lol': 259,\n",
              " 'likes': 260,\n",
              " 'belong': 261,\n",
              " 'help': 262,\n",
              " 'calling': 263,\n",
              " 'hand': 264,\n",
              " 'glad': 265,\n",
              " 'human': 266,\n",
              " 'explanations': 267,\n",
              " 'since': 268,\n",
              " 'seeing': 269,\n",
              " 'anti': 270,\n",
              " 'though': 271,\n",
              " 'nigger': 272,\n",
              " 'r': 273,\n",
              " 'n': 274,\n",
              " 'asylum': 275,\n",
              " 'told': 276,\n",
              " 'lives': 277,\n",
              " 'opposite': 278,\n",
              " 'mixed': 279,\n",
              " 'different': 280,\n",
              " 'worst': 281,\n",
              " 'year': 282,\n",
              " 'stay': 283,\n",
              " 'awful': 284,\n",
              " 'towards': 285,\n",
              " 'least': 286,\n",
              " 'antithesis': 287,\n",
              " 'example': 288,\n",
              " 'change': 289,\n",
              " 'lazy': 290,\n",
              " 'marry': 291,\n",
              " 'girl': 292,\n",
              " 'shitty': 293,\n",
              " 'indian': 294,\n",
              " 'allows': 295,\n",
              " 'stand': 296,\n",
              " 'normal': 297,\n",
              " 'daughter': 298,\n",
              " 'bored': 299,\n",
              " 'smart': 300,\n",
              " 'class': 301,\n",
              " 'e': 302,\n",
              " 'silly': 303,\n",
              " 'media': 304,\n",
              " 'ass': 305,\n",
              " 'animals': 306,\n",
              " 'eat': 307,\n",
              " 'population': 308,\n",
              " 'camel': 309,\n",
              " 'support': 310,\n",
              " 'true': 311,\n",
              " 'niggers': 312,\n",
              " 'trying': 313,\n",
              " 'kind': 314,\n",
              " 'jobs': 315,\n",
              " 'looks': 316,\n",
              " 'transgender': 317,\n",
              " 'history': 318,\n",
              " 'please': 319,\n",
              " 'bullshit': 320,\n",
              " 'done': 321,\n",
              " 'britain': 322,\n",
              " 'trash': 323,\n",
              " 'countries': 324,\n",
              " 'gender': 325,\n",
              " 'starting': 326,\n",
              " 'cunt': 327,\n",
              " 'dumb': 328,\n",
              " 'corona': 329,\n",
              " 'start': 330,\n",
              " 'random': 331,\n",
              " 'horrible': 332,\n",
              " 'sorry': 333,\n",
              " 'met': 334,\n",
              " 'quality': 335,\n",
              " 'control': 336,\n",
              " 'job': 337,\n",
              " 'ones': 338,\n",
              " 'become': 339,\n",
              " 'seekers': 340,\n",
              " 'thought': 341,\n",
              " 'last': 342,\n",
              " 'literally': 343,\n",
              " 'lovely': 344,\n",
              " 'dog': 345,\n",
              " 'yes': 346,\n",
              " 'street': 347,\n",
              " 'associated': 348,\n",
              " 'compared': 349,\n",
              " 'completely': 350,\n",
              " 'state': 351,\n",
              " 'accept': 352,\n",
              " 'went': 353,\n",
              " 'definitely': 354,\n",
              " 'born': 355,\n",
              " 'jew': 356,\n",
              " 'watch': 357,\n",
              " 'africa': 358,\n",
              " 'cause': 359,\n",
              " 'crap': 360,\n",
              " 'u': 361,\n",
              " 'found': 362,\n",
              " 'city': 363,\n",
              " 'welcome': 364,\n",
              " 'lying': 365,\n",
              " '9d': 366,\n",
              " 'whole': 367,\n",
              " 'fucked': 368,\n",
              " 'poor': 369,\n",
              " 'times': 370,\n",
              " 'show': 371,\n",
              " 'families': 372,\n",
              " 'taking': 373,\n",
              " 'days': 374,\n",
              " 'social': 375,\n",
              " 'everywhere': 376,\n",
              " 'ignorant': 377,\n",
              " 'arguments': 378,\n",
              " 'thinking': 379,\n",
              " 'attack': 380,\n",
              " 'hear': 381,\n",
              " 'saw': 382,\n",
              " 'able': 383,\n",
              " 'police': 384,\n",
              " 'child': 385,\n",
              " 'young': 386,\n",
              " 'son': 387,\n",
              " 'funny': 388,\n",
              " 'pay': 389,\n",
              " 'might': 390,\n",
              " 'chinks': 391,\n",
              " 'incredible': 392,\n",
              " 'seems': 393,\n",
              " 'racism': 394,\n",
              " 'etc': 395,\n",
              " 'curry': 396,\n",
              " 'arguing': 397,\n",
              " 'united': 398,\n",
              " 'male': 399,\n",
              " 'sit': 400,\n",
              " 'cant': 401,\n",
              " 'community': 402,\n",
              " 'wife': 403,\n",
              " 'name': 404,\n",
              " 'proud': 405,\n",
              " 'high': 406,\n",
              " 'english': 407,\n",
              " 'parents': 408,\n",
              " 'remember': 409,\n",
              " 'likely': 410,\n",
              " 'coronavirus': 411,\n",
              " 'self': 412,\n",
              " 'mental': 413,\n",
              " 'rather': 414,\n",
              " 'instead': 415,\n",
              " 'merely': 416,\n",
              " 'came': 417,\n",
              " 'huge': 418,\n",
              " 'either': 419,\n",
              " 'probably': 420,\n",
              " 'brown': 421,\n",
              " 'ago': 422,\n",
              " 'anymore': 423,\n",
              " 'politicians': 424,\n",
              " 'boys': 425,\n",
              " 'rats': 426,\n",
              " 'half': 427,\n",
              " 'imagine': 428,\n",
              " 'war': 429,\n",
              " 'differing': 430,\n",
              " 'respect': 431,\n",
              " 'number': 432,\n",
              " 'attention': 433,\n",
              " 'office': 434,\n",
              " '3': 435,\n",
              " 'dead': 436,\n",
              " 'goes': 437,\n",
              " 'bitches': 438,\n",
              " 'married': 439,\n",
              " 'play': 440,\n",
              " 'part': 441,\n",
              " 'yeah': 442,\n",
              " 'maybe': 443,\n",
              " 'hateful': 444,\n",
              " 'americans': 445,\n",
              " 'rubbish': 446,\n",
              " 'expressed': 447,\n",
              " 'heard': 448,\n",
              " 'gone': 449,\n",
              " 'existing': 450,\n",
              " 'fight': 451,\n",
              " 'violence': 452,\n",
              " 'violent': 453,\n",
              " 'blm': 454,\n",
              " 'killing': 455,\n",
              " 'killed': 456,\n",
              " 'exhaust': 457,\n",
              " 'vote': 458,\n",
              " 'whatever': 459,\n",
              " 'banned': 460,\n",
              " 'america': 461,\n",
              " 'hey': 462,\n",
              " 'pretty': 463,\n",
              " 'public': 464,\n",
              " 'problems': 465,\n",
              " 'extremely': 466,\n",
              " 'immigration': 467,\n",
              " 'mind': 468,\n",
              " 'longer': 469,\n",
              " 'power': 470,\n",
              " 'im': 471,\n",
              " 'wear': 472,\n",
              " 'ok': 473,\n",
              " 'wonder': 474,\n",
              " 'chicks': 475,\n",
              " 'clearly': 476,\n",
              " 'means': 477,\n",
              " 'act': 478,\n",
              " 'comes': 479,\n",
              " 'rest': 480,\n",
              " 'garbage': 481,\n",
              " 'dudes': 482,\n",
              " 'wants': 483,\n",
              " 'sometimes': 484,\n",
              " 'plan': 485,\n",
              " 'clean': 486,\n",
              " 'talking': 487,\n",
              " 'bloody': 488,\n",
              " 'idiotic': 489,\n",
              " 'rich': 490,\n",
              " 'virus': 491,\n",
              " 'political': 492,\n",
              " 'safe': 493,\n",
              " 'london': 494,\n",
              " 'nhs': 495,\n",
              " 'near': 496,\n",
              " 'african': 497,\n",
              " 'telling': 498,\n",
              " 'shot': 499,\n",
              " 'wonderful': 500,\n",
              " 'skin': 501,\n",
              " 'dangerous': 502,\n",
              " 'filthy': 503,\n",
              " 'islam': 504,\n",
              " 'straight': 505,\n",
              " 'urgh': 506,\n",
              " 'natural': 507,\n",
              " 'system': 508,\n",
              " 'usually': 509,\n",
              " 'honestly': 510,\n",
              " 'sad': 511,\n",
              " 'lesbian': 512,\n",
              " 'dick': 513,\n",
              " 'crime': 514,\n",
              " 'dogs': 515,\n",
              " 'bit': 516,\n",
              " 'majority': 517,\n",
              " 'bunch': 518,\n",
              " 'sexual': 519,\n",
              " 'endorse': 520,\n",
              " 'states': 521,\n",
              " 'american': 522,\n",
              " 'given': 523,\n",
              " 'stuff': 524,\n",
              " 'hitler': 525,\n",
              " 'terrorists': 526,\n",
              " 'run': 527,\n",
              " 'including': 528,\n",
              " 'dark': 529,\n",
              " 'seem': 530,\n",
              " 'beat': 531,\n",
              " 'post': 532,\n",
              " 'worth': 533,\n",
              " 'coming': 534,\n",
              " 'may': 535,\n",
              " 'sake': 536,\n",
              " 'nature': 537,\n",
              " 'especially': 538,\n",
              " 'fags': 539,\n",
              " 'quite': 540,\n",
              " 'racists': 541,\n",
              " 'husband': 542,\n",
              " 'rid': 543,\n",
              " 'angry': 544,\n",
              " 'massive': 545,\n",
              " 'shut': 546,\n",
              " 'wanna': 547,\n",
              " 'totally': 548,\n",
              " 'failure': 549,\n",
              " 'thanks': 550,\n",
              " 'abuse': 551,\n",
              " 'difference': 552,\n",
              " 'due': 553,\n",
              " 'polish': 554,\n",
              " 'tranny': 555,\n",
              " 'vile': 556,\n",
              " 'guess': 557,\n",
              " 'party': 558,\n",
              " 'read': 559,\n",
              " 'threat': 560,\n",
              " 'trannies': 561,\n",
              " 'concept': 562,\n",
              " 'cockroaches': 563,\n",
              " 'almost': 564,\n",
              " 'china': 565,\n",
              " 'truth': 566,\n",
              " 'races': 567,\n",
              " 'absolute': 568,\n",
              " 'weird': 569,\n",
              " '2': 570,\n",
              " 'worthless': 571,\n",
              " 'positive': 572,\n",
              " 'blame': 573,\n",
              " 'fantastic': 574,\n",
              " 'order': 575,\n",
              " 'body': 576,\n",
              " 'wearing': 577,\n",
              " 'burning': 578,\n",
              " 'gets': 579,\n",
              " 'together': 580,\n",
              " 'superior': 581,\n",
              " 'experience': 582,\n",
              " 'started': 583,\n",
              " '1': 584,\n",
              " 'head': 585,\n",
              " 'law': 586,\n",
              " 'india': 587,\n",
              " 'obviously': 588,\n",
              " 'arab': 589,\n",
              " 'idiots': 590,\n",
              " 'nigga': 591,\n",
              " 'friendly': 592,\n",
              " 'twat': 593,\n",
              " 'nazis': 594,\n",
              " 'short': 595,\n",
              " 'emotional': 596,\n",
              " 'kid': 597,\n",
              " 'diverse': 598,\n",
              " 'indigenous': 599,\n",
              " 'basically': 600,\n",
              " 'pregnant': 601,\n",
              " 'inferior': 602,\n",
              " 'issues': 603,\n",
              " 'gross': 604,\n",
              " 'ask': 605,\n",
              " 'adore': 606,\n",
              " 'groups': 607,\n",
              " 'deal': 608,\n",
              " 'pile': 609,\n",
              " 'roots': 610,\n",
              " 'sister': 611,\n",
              " 'turned': 612,\n",
              " 'join': 613,\n",
              " 'allow': 614,\n",
              " 'fan': 615,\n",
              " 'car': 616,\n",
              " '10': 617,\n",
              " 'important': 618,\n",
              " 'pass': 619,\n",
              " 'biggest': 620,\n",
              " 'age': 621,\n",
              " 'tired': 622,\n",
              " 'open': 623,\n",
              " 'future': 624,\n",
              " 'news': 625,\n",
              " 'equal': 626,\n",
              " 'smell': 627,\n",
              " 'lgbt': 628,\n",
              " 'team': 629,\n",
              " 'trust': 630,\n",
              " 'often': 631,\n",
              " 'g': 632,\n",
              " 'simply': 633,\n",
              " 'turn': 634,\n",
              " 'dear': 635,\n",
              " 'fat': 636,\n",
              " 'antithetical': 637,\n",
              " 'based': 638,\n",
              " 'recently': 639,\n",
              " 'terrible': 640,\n",
              " 'soon': 641,\n",
              " 'utter': 642,\n",
              " 'treated': 643,\n",
              " 'pakis': 644,\n",
              " 'general': 645,\n",
              " 'view': 646,\n",
              " 'brought': 647,\n",
              " 'types': 648,\n",
              " 'happen': 649,\n",
              " 'works': 650,\n",
              " 'ruin': 651,\n",
              " 'cat': 652,\n",
              " 'intelligence': 653,\n",
              " 'europe': 654,\n",
              " 'humans': 655,\n",
              " 'christians': 656,\n",
              " 'laws': 657,\n",
              " '2020': 658,\n",
              " 'bet': 659,\n",
              " 'decent': 660,\n",
              " 'words': 661,\n",
              " 'clever': 662,\n",
              " 'destroyed': 663,\n",
              " 'plenty': 664,\n",
              " 'crazy': 665,\n",
              " 'middle': 666,\n",
              " 'destroy': 667,\n",
              " 'move': 668,\n",
              " 'date': 669,\n",
              " 'bring': 670,\n",
              " 'monkeys': 671,\n",
              " 'music': 672,\n",
              " 'relationship': 673,\n",
              " 'door': 674,\n",
              " 'rape': 675,\n",
              " 'japanese': 676,\n",
              " 'colour': 677,\n",
              " 'side': 678,\n",
              " 'lesbos': 679,\n",
              " 'travellers': 680,\n",
              " 'nazi': 681,\n",
              " 'marriage': 682,\n",
              " 'speak': 683,\n",
              " 'diversity': 684,\n",
              " 'hair': 685,\n",
              " 'taken': 686,\n",
              " 'wait': 687,\n",
              " 'kike': 688,\n",
              " 'tv': 689,\n",
              " 'cops': 690,\n",
              " 'burn': 691,\n",
              " 'africans': 692,\n",
              " 'minorities': 693,\n",
              " 'truly': 694,\n",
              " 'meet': 695,\n",
              " 'buy': 696,\n",
              " 'dude': 697,\n",
              " 'murder': 698,\n",
              " 'economy': 699,\n",
              " 'gypsies': 700,\n",
              " 'strong': 701,\n",
              " 'low': 702,\n",
              " 'females': 703,\n",
              " 'damn': 704,\n",
              " 'sorts': 705,\n",
              " 'idiot': 706,\n",
              " 'question': 707,\n",
              " 'haha': 708,\n",
              " 'rule': 709,\n",
              " 'dress': 710,\n",
              " 'wanted': 711,\n",
              " 'stunning': 712,\n",
              " 'video': 713,\n",
              " 'immigrant': 714,\n",
              " 'east': 715,\n",
              " 'seriously': 716,\n",
              " 'mentally': 717,\n",
              " 'munchers': 718,\n",
              " 'discrimination': 719,\n",
              " 'lots': 720,\n",
              " 'mass': 721,\n",
              " 'criminals': 722,\n",
              " 'particular': 723,\n",
              " 'heads': 724,\n",
              " 'pigs': 725,\n",
              " 'ancestral': 726,\n",
              " 'native': 727,\n",
              " 'ethnic': 728,\n",
              " 'brother': 729,\n",
              " 'crimes': 730,\n",
              " 'rat': 731,\n",
              " 'level': 732,\n",
              " 'actual': 733,\n",
              " 'european': 734,\n",
              " 'pakistanis': 735,\n",
              " 'cancer': 736,\n",
              " 'honest': 737,\n",
              " 'parent': 738,\n",
              " 'town': 739,\n",
              " 'neighbourhood': 740,\n",
              " 'religion': 741,\n",
              " 'anywhere': 742,\n",
              " 'whores': 743,\n",
              " 'baby': 744,\n",
              " 'cute': 745,\n",
              " 'attractive': 746,\n",
              " 'refugee': 747,\n",
              " 'attitude': 748,\n",
              " 'fun': 749,\n",
              " 'illegal': 750,\n",
              " 'faggot': 751,\n",
              " 'racial': 752,\n",
              " 'night': 753,\n",
              " 'past': 754,\n",
              " 'slavery': 755,\n",
              " 'football': 756,\n",
              " 'exactly': 757,\n",
              " 'k': 758,\n",
              " 'masks': 759,\n",
              " 'entire': 760,\n",
              " 'along': 761,\n",
              " 'alive': 762,\n",
              " 'twice': 763,\n",
              " 'language': 764,\n",
              " 'anyway': 765,\n",
              " 'dating': 766,\n",
              " 'surprised': 767,\n",
              " 'b': 768,\n",
              " 'royal': 769,\n",
              " 'boy': 770,\n",
              " 'unfortunately': 771,\n",
              " 'university': 772,\n",
              " 'f': 773,\n",
              " 'kinds': 774,\n",
              " 'streets': 775,\n",
              " 'expect': 776,\n",
              " 'intelligent': 777,\n",
              " 'apparently': 778,\n",
              " 'although': 779,\n",
              " 'giving': 780,\n",
              " 'liberal': 781,\n",
              " 'joke': 782,\n",
              " 'c': 783,\n",
              " 'encourage': 784,\n",
              " 'tried': 785,\n",
              " 'wow': 786,\n",
              " 'trashy': 787,\n",
              " 'difficult': 788,\n",
              " 'learn': 789,\n",
              " 'follow': 790,\n",
              " 'filled': 791,\n",
              " 'ugh': 792,\n",
              " 'beauty': 793,\n",
              " 'beauties': 794,\n",
              " 'reality': 795,\n",
              " 'junk': 796,\n",
              " 'binary': 797,\n",
              " 'honesty': 798,\n",
              " 'wild': 799,\n",
              " 'cleanliness': 800,\n",
              " 'paki': 801,\n",
              " 'fag': 802,\n",
              " 'brain': 803,\n",
              " 'afraid': 804,\n",
              " 'bastards': 805,\n",
              " 'south': 806,\n",
              " 'attacking': 807,\n",
              " 'grow': 808,\n",
              " 'enjoy': 809,\n",
              " 'bellends': 810,\n",
              " 'sons': 811,\n",
              " 'whore': 812,\n",
              " 'letting': 813,\n",
              " 'disgrace': 814,\n",
              " 'biden': 815,\n",
              " 'queer': 816,\n",
              " 'benefits': 817,\n",
              " 'within': 818,\n",
              " 'insane': 819,\n",
              " 'spend': 820,\n",
              " 'incredibly': 821,\n",
              " 'faggots': 822,\n",
              " 'waste': 823,\n",
              " 'knows': 824,\n",
              " 'suck': 825,\n",
              " 'ching': 826,\n",
              " 'shoot': 827,\n",
              " 'gonna': 828,\n",
              " 'slut': 829,\n",
              " 'higher': 830,\n",
              " 'therefore': 831,\n",
              " 'okay': 832,\n",
              " 'chink': 833,\n",
              " 'england': 834,\n",
              " 'lost': 835,\n",
              " 'millions': 836,\n",
              " 'amount': 837,\n",
              " 'ðÿ': 838,\n",
              " 'victims': 839,\n",
              " 'hot': 840,\n",
              " 'ruined': 841,\n",
              " 'niggas': 842,\n",
              " 'considered': 843,\n",
              " 'cares': 844,\n",
              " 'complete': 845,\n",
              " 'species': 846,\n",
              " 'rules': 847,\n",
              " 'president': 848,\n",
              " 'perfect': 849,\n",
              " 'finally': 850,\n",
              " 'otherwise': 851,\n",
              " 'tube': 852,\n",
              " 'fair': 853,\n",
              " 'fighting': 854,\n",
              " 'case': 855,\n",
              " 'nowadays': 856,\n",
              " 'disproportionally': 857,\n",
              " 'computer': 858,\n",
              " 'kingdom': 859,\n",
              " 'unless': 860,\n",
              " 'boyfriend': 861,\n",
              " 'knew': 862,\n",
              " 'health': 863,\n",
              " 'continue': 864,\n",
              " 'dad': 865,\n",
              " 'hit': 866,\n",
              " 'land': 867,\n",
              " 'easily': 868,\n",
              " 'total': 869,\n",
              " 'bisexuals': 870,\n",
              " 'western': 871,\n",
              " 'l': 872,\n",
              " 'sending': 873,\n",
              " 'targeting': 874,\n",
              " 'foreign': 875,\n",
              " 'fit': 876,\n",
              " 'beating': 877,\n",
              " 'despite': 878,\n",
              " 'existence': 879,\n",
              " 'fake': 880,\n",
              " 'fabulous': 881,\n",
              " 'happened': 882,\n",
              " 'million': 883,\n",
              " 'hurt': 884,\n",
              " 'mother': 885,\n",
              " 'countryside': 886,\n",
              " 'iq': 887,\n",
              " 'forget': 888,\n",
              " 'clothes': 889,\n",
              " 'plague': 890,\n",
              " 'fall': 891,\n",
              " 'flat': 892,\n",
              " 'pathetic': 893,\n",
              " 'typical': 894,\n",
              " 'bed': 895,\n",
              " 'monkey': 896,\n",
              " 'forced': 897,\n",
              " 'teach': 898,\n",
              " 'week': 899,\n",
              " 'descriptive': 900,\n",
              " 'fine': 901,\n",
              " 'actions': 902,\n",
              " 'lockdown': 903,\n",
              " 'story': 904,\n",
              " 'room': 905,\n",
              " 'tend': 906,\n",
              " 'game': 907,\n",
              " 'values': 908,\n",
              " 'minority': 909,\n",
              " 'pretend': 910,\n",
              " 'significant': 911,\n",
              " 'expected': 912,\n",
              " '80': 913,\n",
              " 'purity': 914,\n",
              " 'senseless': 915,\n",
              " 'close': 916,\n",
              " 'nation': 917,\n",
              " 'force': 918,\n",
              " 'mood': 919,\n",
              " 'illness': 920,\n",
              " 'clear': 921,\n",
              " 'phone': 922,\n",
              " 'super': 923,\n",
              " 'integrity': 924,\n",
              " 'labour': 925,\n",
              " 'suggest': 926,\n",
              " 'colleague': 927,\n",
              " 'certain': 928,\n",
              " 'claim': 929,\n",
              " 'modern': 930,\n",
              " 'views': 931,\n",
              " 'french': 932,\n",
              " 'tiny': 933,\n",
              " 'small': 934,\n",
              " 'spiders': 935,\n",
              " 'coastlines': 936,\n",
              " 'picturesque': 937,\n",
              " 'pure': 938,\n",
              " '100': 939,\n",
              " 'cut': 940,\n",
              " 'selfish': 941,\n",
              " 'babies': 942,\n",
              " 'listen': 943,\n",
              " 'mask': 944,\n",
              " 'shows': 945,\n",
              " 'holocaust': 946,\n",
              " 'among': 947,\n",
              " 'wtf': 948,\n",
              " 'cousin': 949,\n",
              " 'boss': 950,\n",
              " 'national': 951,\n",
              " 'trouble': 952,\n",
              " 'west': 953,\n",
              " 'dykes': 954,\n",
              " 'genocide': 955,\n",
              " 'terrorism': 956,\n",
              " 'hearing': 957,\n",
              " 'identity': 958,\n",
              " 'retard': 959,\n",
              " 'excuse': 960,\n",
              " 'across': 961,\n",
              " 'danger': 962,\n",
              " 'sports': 963,\n",
              " 'ill': 964,\n",
              " 'comment': 965,\n",
              " 'wonders': 966,\n",
              " 'yids': 967,\n",
              " 'pain': 968,\n",
              " 'stability': 969,\n",
              " 'fed': 970,\n",
              " 'proven': 971,\n",
              " 'average': 972,\n",
              " '4': 973,\n",
              " 'personal': 974,\n",
              " 'cool': 975,\n",
              " 'three': 976,\n",
              " 'fear': 977,\n",
              " 'playing': 978,\n",
              " 'similar': 979,\n",
              " 'statement': 980,\n",
              " 'kicked': 981,\n",
              " 'known': 982,\n",
              " 'nike': 983,\n",
              " 'red': 984,\n",
              " 'defending': 985,\n",
              " 'cultural': 986,\n",
              " 'dyke': 987,\n",
              " 'bisexual': 988,\n",
              " 'policy': 989,\n",
              " 'protect': 990,\n",
              " 'pandemic': 991,\n",
              " 'mum': 992,\n",
              " 'retarded': 993,\n",
              " 'sleep': 994,\n",
              " 'migrants': 995,\n",
              " 'snakes': 996,\n",
              " 'behind': 997,\n",
              " 'happens': 998,\n",
              " 'hindus': 999,\n",
              " 'type': 1000,\n",
              " ...}"
            ]
          },
          "metadata": {},
          "execution_count": 290
        }
      ],
      "source": [
        "tokenizer.word_index"
      ]
    },
    {
      "cell_type": "code",
      "execution_count": 291,
      "metadata": {
        "id": "ZsCCreXTaozi"
      },
      "outputs": [],
      "source": [
        "# Now for each sentence a list is created and with respect to the word a unique number is assigned \n",
        "train_x = tokenizer.texts_to_sequences(X_train)\n",
        "test_x = tokenizer.texts_to_sequences(X_test)"
      ]
    },
    {
      "cell_type": "code",
      "execution_count": 292,
      "metadata": {
        "colab": {
          "base_uri": "https://localhost:8080/"
        },
        "id": "xknocMHQa0xU",
        "outputId": "ca73edd1-79d4-4e8b-ccd9-413222a4c127"
      },
      "outputs": [
        {
          "output_type": "execute_result",
          "data": {
            "text/plain": [
              "[20, 371, 2029, 3699, 11, 1, 2151]"
            ]
          },
          "metadata": {},
          "execution_count": 292
        }
      ],
      "source": [
        "train_x[1]"
      ]
    },
    {
      "cell_type": "code",
      "execution_count": 293,
      "metadata": {
        "id": "QxCN_p4Ma3SE"
      },
      "outputs": [],
      "source": [
        "## Pad the sentences to have the same length \n",
        "train_x = pad_sequences(train_x, maxlen=20)\n",
        "test_x = pad_sequences(test_x, maxlen= 20)"
      ]
    },
    {
      "cell_type": "markdown",
      "metadata": {
        "id": "dCQOfAu2bOOT"
      },
      "source": [
        "### **Implementing a 1-D Convolutional Neural Network**"
      ]
    },
    {
      "cell_type": "code",
      "execution_count": 294,
      "metadata": {
        "id": "xEFD2_0YbBNE"
      },
      "outputs": [],
      "source": [
        "model = Sequential()\n",
        "model.add(Embedding(input_dim=vocab_size, output_dim=80, input_length = train_x.shape[1]))\n",
        "model.add(Conv1D(32,3,activation=\"relu\"))\n",
        "model.add(MaxPooling1D(2))\n",
        "model.add(Conv1D(8,3,activation=\"relu\"))\n",
        "model.add(Dropout(0.5))\n",
        "model.add(Flatten())\n",
        "model.add(Dense(1, activation='sigmoid'))"
      ]
    },
    {
      "cell_type": "code",
      "execution_count": 295,
      "metadata": {
        "colab": {
          "base_uri": "https://localhost:8080/"
        },
        "id": "ap_08Tk2zeGR",
        "outputId": "34fe6d0e-7f13-41bc-8582-f0c1e0cf8185"
      },
      "outputs": [
        {
          "output_type": "stream",
          "name": "stdout",
          "text": [
            "Model: \"sequential_8\"\n",
            "_________________________________________________________________\n",
            " Layer (type)                Output Shape              Param #   \n",
            "=================================================================\n",
            " embedding_8 (Embedding)     (None, 20, 80)            1623600   \n",
            "                                                                 \n",
            " conv1d_16 (Conv1D)          (None, 18, 32)            7712      \n",
            "                                                                 \n",
            " max_pooling1d_11 (MaxPoolin  (None, 9, 32)            0         \n",
            " g1D)                                                            \n",
            "                                                                 \n",
            " conv1d_17 (Conv1D)          (None, 7, 8)              776       \n",
            "                                                                 \n",
            " dropout_7 (Dropout)         (None, 7, 8)              0         \n",
            "                                                                 \n",
            " flatten_5 (Flatten)         (None, 56)                0         \n",
            "                                                                 \n",
            " dense_7 (Dense)             (None, 1)                 57        \n",
            "                                                                 \n",
            "=================================================================\n",
            "Total params: 1,632,145\n",
            "Trainable params: 1,632,145\n",
            "Non-trainable params: 0\n",
            "_________________________________________________________________\n"
          ]
        }
      ],
      "source": [
        "model.summary()"
      ]
    },
    {
      "cell_type": "code",
      "execution_count": 296,
      "metadata": {
        "id": "QgBDMiTdzvEj"
      },
      "outputs": [],
      "source": [
        "model.compile(loss = 'binary_crossentropy', optimizer='adam', metrics = ['accuracy'])"
      ]
    },
    {
      "cell_type": "code",
      "execution_count": 297,
      "metadata": {
        "colab": {
          "base_uri": "https://localhost:8080/"
        },
        "id": "b7nq-KT6z5Mb",
        "outputId": "c9d0c302-5d09-485a-ffea-75913ee549f8"
      },
      "outputs": [
        {
          "output_type": "stream",
          "name": "stdout",
          "text": [
            "Epoch 1/15\n",
            "1016/1016 [==============================] - 6s 5ms/step - loss: 0.6264 - accuracy: 0.6354 - val_loss: 0.5340 - val_accuracy: 0.7243\n",
            "Epoch 2/15\n",
            "1016/1016 [==============================] - 5s 5ms/step - loss: 0.4779 - accuracy: 0.7726 - val_loss: 0.5084 - val_accuracy: 0.7338\n",
            "Epoch 3/15\n",
            "1016/1016 [==============================] - 5s 5ms/step - loss: 0.3623 - accuracy: 0.8398 - val_loss: 0.5629 - val_accuracy: 0.7335\n",
            "Epoch 4/15\n",
            "1016/1016 [==============================] - 5s 5ms/step - loss: 0.2803 - accuracy: 0.8839 - val_loss: 0.6361 - val_accuracy: 0.7302\n",
            "Epoch 5/15\n",
            "1016/1016 [==============================] - 5s 5ms/step - loss: 0.2218 - accuracy: 0.9087 - val_loss: 0.7799 - val_accuracy: 0.7282\n",
            "Epoch 6/15\n",
            "1016/1016 [==============================] - 5s 5ms/step - loss: 0.1821 - accuracy: 0.9258 - val_loss: 0.9692 - val_accuracy: 0.7262\n",
            "Epoch 7/15\n",
            "1016/1016 [==============================] - 5s 5ms/step - loss: 0.1599 - accuracy: 0.9375 - val_loss: 1.1435 - val_accuracy: 0.7263\n",
            "Epoch 8/15\n",
            "1016/1016 [==============================] - 5s 5ms/step - loss: 0.1381 - accuracy: 0.9453 - val_loss: 1.2156 - val_accuracy: 0.7207\n",
            "Epoch 9/15\n",
            "1016/1016 [==============================] - 5s 5ms/step - loss: 0.1233 - accuracy: 0.9513 - val_loss: 1.3229 - val_accuracy: 0.7174\n",
            "Epoch 10/15\n",
            "1016/1016 [==============================] - 5s 5ms/step - loss: 0.1150 - accuracy: 0.9540 - val_loss: 1.4579 - val_accuracy: 0.7202\n",
            "Epoch 11/15\n",
            "1016/1016 [==============================] - 5s 5ms/step - loss: 0.1066 - accuracy: 0.9568 - val_loss: 1.5537 - val_accuracy: 0.7201\n",
            "Epoch 12/15\n",
            "1016/1016 [==============================] - 5s 5ms/step - loss: 0.0971 - accuracy: 0.9610 - val_loss: 1.6411 - val_accuracy: 0.7163\n",
            "Epoch 13/15\n",
            "1016/1016 [==============================] - 5s 5ms/step - loss: 0.0966 - accuracy: 0.9615 - val_loss: 1.6819 - val_accuracy: 0.7143\n",
            "Epoch 14/15\n",
            "1016/1016 [==============================] - 5s 5ms/step - loss: 0.0885 - accuracy: 0.9637 - val_loss: 1.8260 - val_accuracy: 0.7135\n",
            "Epoch 15/15\n",
            "1016/1016 [==============================] - 5s 5ms/step - loss: 0.0847 - accuracy: 0.9659 - val_loss: 1.9973 - val_accuracy: 0.7205\n"
          ]
        }
      ],
      "source": [
        "history = model.fit(train_x, y_train, epochs=15, validation_data=(test_x, y_test))"
      ]
    },
    {
      "cell_type": "code",
      "execution_count": 298,
      "metadata": {
        "colab": {
          "base_uri": "https://localhost:8080/",
          "height": 407
        },
        "id": "kWEz-HYgz7Ci",
        "outputId": "0d852319-452a-4320-a856-6795dd4791ad"
      },
      "outputs": [
        {
          "output_type": "display_data",
          "data": {
            "text/plain": [
              "<Figure size 576x432 with 1 Axes>"
            ],
            "image/png": "[encoded data removed]"
          },
          "metadata": {
            "needs_background": "light"
          }
        }
      ],
      "source": [
        "# summarize history for loss\n",
        "plt.figure(figsize=(8, 6))\n",
        "\n",
        "\n",
        "plt.plot(history.history['accuracy'])\n",
        "\n",
        "plt.plot(history.history['val_accuracy'])\n",
        "\n",
        "plt.title('model accuracy')\n",
        "\n",
        "plt.ylabel('Accruacy', fontsize = 12)\n",
        "\n",
        "plt.xlabel('epoch', fontsize = 12)\n",
        "\n",
        "plt.legend(['Train', \"Test\"], loc='upper left')\n",
        "\n",
        "plt.show()"
      ]
    },
    {
      "cell_type": "code",
      "execution_count": 299,
      "metadata": {
        "colab": {
          "base_uri": "https://localhost:8080/",
          "height": 407
        },
        "id": "3irVm-At1c1M",
        "outputId": "98bc5b8a-7819-438b-99b0-27765f9f5fd5"
      },
      "outputs": [
        {
          "output_type": "display_data",
          "data": {
            "text/plain": [
              "<Figure size 576x432 with 1 Axes>"
            ],
            "image/png": "[encoded data removed]"
          },
          "metadata": {
            "needs_background": "light"
          }
        }
      ],
      "source": [
        "# summarize history for loss\n",
        "plt.figure(figsize=(8, 6))\n",
        "\n",
        "plt.plot(history.history['loss'])\n",
        "\n",
        "plt.plot(history.history['val_loss'])\n",
        "\n",
        "plt.title('model loss')\n",
        "\n",
        "plt.ylabel('loss', fontsize = 14)\n",
        "\n",
        "plt.xlabel('epoch', fontsize = 12)\n",
        "\n",
        "plt.legend(['Train', \"Test\"], loc='upper left')\n",
        "plt.show()"
      ]
    },
    {
      "cell_type": "markdown",
      "metadata": {
        "id": "-Sc7vOHC1rpv"
      },
      "source": [
        "## **Implementing a Hybrid Deep Learning Model**"
      ]
    },
    {
      "cell_type": "code",
      "execution_count": 300,
      "metadata": {
        "id": "VWAfyov91dHu"
      },
      "outputs": [],
      "source": [
        "model = Sequential()\n",
        "model.add(Embedding(input_dim=vocab_size, output_dim=100, input_length = train_x.shape[1]))\n",
        "model.add(Conv1D(256,3,activation=\"relu\"))\n",
        "model.add(MaxPooling1D(2))\n",
        "model.add(Conv1D(128,3,activation=\"relu\"))\n",
        "model.add(MaxPooling1D(2))\n",
        "model.add(Conv1D(64,3,activation=\"relu\"))\n",
        "model.add(Dropout(0.5))\n",
        "model.add(Bidirectional(LSTM(64, dropout=0.2, recurrent_dropout=0, return_sequences = True, activation = \"tanh\", recurrent_activation = \"sigmoid\")))\n",
        "model.add(Bidirectional(LSTM(32, dropout=0.2, recurrent_dropout=0, return_sequences = True, activation = \"tanh\", recurrent_activation = \"sigmoid\")))\n",
        "model.add(GRU(16, dropout=0.2, recurrent_dropout=0, return_sequences = True, activation = \"tanh\", recurrent_activation = \"sigmoid\"))\n",
        "model.add(GRU(8, dropout=0.2, recurrent_dropout=0, return_sequences = True, activation = \"tanh\", recurrent_activation = \"sigmoid\"))\n",
        "model.add(Flatten())\n",
        "model.add(Dense(1, activation='sigmoid'))"
      ]
    },
    {
      "cell_type": "code",
      "execution_count": 301,
      "metadata": {
        "colab": {
          "base_uri": "https://localhost:8080/"
        },
        "id": "TZIvA3E41dMS",
        "outputId": "d4dd5f98-2b8b-4eaa-896e-629ecc0d0775"
      },
      "outputs": [
        {
          "output_type": "stream",
          "name": "stdout",
          "text": [
            "Model: \"sequential_9\"\n",
            "_________________________________________________________________\n",
            " Layer (type)                Output Shape              Param #   \n",
            "=================================================================\n",
            " embedding_9 (Embedding)     (None, 20, 100)           2029500   \n",
            "                                                                 \n",
            " conv1d_18 (Conv1D)          (None, 18, 256)           77056     \n",
            "                                                                 \n",
            " max_pooling1d_12 (MaxPoolin  (None, 9, 256)           0         \n",
            " g1D)                                                            \n",
            "                                                                 \n",
            " conv1d_19 (Conv1D)          (None, 7, 128)            98432     \n",
            "                                                                 \n",
            " max_pooling1d_13 (MaxPoolin  (None, 3, 128)           0         \n",
            " g1D)                                                            \n",
            "                                                                 \n",
            " conv1d_20 (Conv1D)          (None, 1, 64)             24640     \n",
            "                                                                 \n",
            " dropout_8 (Dropout)         (None, 1, 64)             0         \n",
            "                                                                 \n",
            " bidirectional_12 (Bidirecti  (None, 1, 128)           66048     \n",
            " onal)                                                           \n",
            "                                                                 \n",
            " bidirectional_13 (Bidirecti  (None, 1, 64)            41216     \n",
            " onal)                                                           \n",
            "                                                                 \n",
            " gru_6 (GRU)                 (None, 1, 16)             3936      \n",
            "                                                                 \n",
            " gru_7 (GRU)                 (None, 1, 8)              624       \n",
            "                                                                 \n",
            " flatten_6 (Flatten)         (None, 8)                 0         \n",
            "                                                                 \n",
            " dense_8 (Dense)             (None, 1)                 9         \n",
            "                                                                 \n",
            "=================================================================\n",
            "Total params: 2,341,461\n",
            "Trainable params: 2,341,461\n",
            "Non-trainable params: 0\n",
            "_________________________________________________________________\n"
          ]
        }
      ],
      "source": [
        "model.summary()"
      ]
    },
    {
      "cell_type": "code",
      "execution_count": 302,
      "metadata": {
        "id": "df2KIuGa1dQm"
      },
      "outputs": [],
      "source": [
        "model.compile(loss = 'binary_crossentropy', optimizer='adam', metrics = ['accuracy'])"
      ]
    },
    {
      "cell_type": "code",
      "execution_count": 303,
      "metadata": {
        "id": "udQDxNGy2DOn",
        "colab": {
          "base_uri": "https://localhost:8080/"
        },
        "outputId": "97831590-d6db-4e6e-8d31-4690167f3a1a"
      },
      "outputs": [
        {
          "output_type": "stream",
          "name": "stdout",
          "text": [
            "Epoch 1/15\n",
            "1016/1016 [==============================] - 24s 15ms/step - loss: 0.6591 - accuracy: 0.5947 - val_loss: 0.6296 - val_accuracy: 0.6279\n",
            "Epoch 2/15\n",
            "1016/1016 [==============================] - 14s 14ms/step - loss: 0.5750 - accuracy: 0.6893 - val_loss: 0.6164 - val_accuracy: 0.6481\n",
            "Epoch 3/15\n",
            "1016/1016 [==============================] - 14s 13ms/step - loss: 0.4912 - accuracy: 0.7556 - val_loss: 0.6548 - val_accuracy: 0.6389\n",
            "Epoch 4/15\n",
            "1016/1016 [==============================] - 14s 14ms/step - loss: 0.4199 - accuracy: 0.8001 - val_loss: 0.7317 - val_accuracy: 0.6416\n",
            "Epoch 5/15\n",
            "1016/1016 [==============================] - 14s 14ms/step - loss: 0.3606 - accuracy: 0.8374 - val_loss: 0.7535 - val_accuracy: 0.6436\n",
            "Epoch 6/15\n",
            "1016/1016 [==============================] - 14s 14ms/step - loss: 0.3201 - accuracy: 0.8546 - val_loss: 0.8790 - val_accuracy: 0.6433\n",
            "Epoch 7/15\n",
            "1016/1016 [==============================] - 14s 13ms/step - loss: 0.2874 - accuracy: 0.8697 - val_loss: 0.9419 - val_accuracy: 0.6466\n",
            "Epoch 8/15\n",
            "1016/1016 [==============================] - 14s 14ms/step - loss: 0.2664 - accuracy: 0.8792 - val_loss: 0.8856 - val_accuracy: 0.6426\n",
            "Epoch 9/15\n",
            "1016/1016 [==============================] - 14s 14ms/step - loss: 0.2503 - accuracy: 0.8836 - val_loss: 1.1021 - val_accuracy: 0.6432\n",
            "Epoch 10/15\n",
            "1016/1016 [==============================] - 14s 14ms/step - loss: 0.2363 - accuracy: 0.8883 - val_loss: 1.1088 - val_accuracy: 0.6384\n",
            "Epoch 11/15\n",
            "1016/1016 [==============================] - 14s 14ms/step - loss: 0.2230 - accuracy: 0.8935 - val_loss: 1.1608 - val_accuracy: 0.6426\n",
            "Epoch 12/15\n",
            "1016/1016 [==============================] - 14s 14ms/step - loss: 0.2128 - accuracy: 0.8965 - val_loss: 1.1867 - val_accuracy: 0.6367\n",
            "Epoch 13/15\n",
            "1016/1016 [==============================] - 14s 13ms/step - loss: 0.2076 - accuracy: 0.8981 - val_loss: 1.2330 - val_accuracy: 0.6367\n",
            "Epoch 14/15\n",
            "1016/1016 [==============================] - 14s 14ms/step - loss: 0.2011 - accuracy: 0.9003 - val_loss: 1.2692 - val_accuracy: 0.6459\n",
            "Epoch 15/15\n",
            "1016/1016 [==============================] - 14s 14ms/step - loss: 0.2009 - accuracy: 0.8993 - val_loss: 1.2740 - val_accuracy: 0.6428\n"
          ]
        }
      ],
      "source": [
        "history = model.fit(train_x, y_train, epochs=15, validation_data=(test_x, y_test))"
      ]
    },
    {
      "cell_type": "code",
      "execution_count": 304,
      "metadata": {
        "id": "exf3Zq0v2E-y",
        "colab": {
          "base_uri": "https://localhost:8080/",
          "height": 407
        },
        "outputId": "23583d02-e6c9-49dd-9acf-d6fbf79217c4"
      },
      "outputs": [
        {
          "output_type": "display_data",
          "data": {
            "text/plain": [
              "<Figure size 576x432 with 1 Axes>"
            ],
            "image/png": "[encoded data removed]"
          },
          "metadata": {
            "needs_background": "light"
          }
        }
      ],
      "source": [
        "# summarize history for loss\n",
        "plt.figure(figsize=(8, 6))\n",
        "\n",
        "\n",
        "plt.plot(history.history['accuracy'])\n",
        "\n",
        "plt.plot(history.history['val_accuracy'])\n",
        "\n",
        "plt.title('model accuracy')\n",
        "\n",
        "plt.ylabel('Accruacy', fontsize = 12)\n",
        "\n",
        "plt.xlabel('epoch', fontsize = 12)\n",
        "\n",
        "plt.legend(['Train', \"Test\"], loc='upper left')\n",
        "\n",
        "plt.show()"
      ]
    },
    {
      "cell_type": "code",
      "execution_count": 305,
      "metadata": {
        "id": "aIqV2tT821Qd",
        "colab": {
          "base_uri": "https://localhost:8080/",
          "height": 407
        },
        "outputId": "f1c32950-a6b3-4a88-a8e5-1994db716bc1"
      },
      "outputs": [
        {
          "output_type": "display_data",
          "data": {
            "text/plain": [
              "<Figure size 576x432 with 1 Axes>"
            ],
            "image/png": "[encoded data removed]"
          },
          "metadata": {
            "needs_background": "light"
          }
        }
      ],
      "source": [
        "# summarize history for loss\n",
        "plt.figure(figsize=(8, 6))\n",
        "\n",
        "plt.plot(history.history['loss'])\n",
        "\n",
        "plt.plot(history.history['val_loss'])\n",
        "\n",
        "plt.title('model loss')\n",
        "\n",
        "plt.ylabel('loss', fontsize = 14)\n",
        "\n",
        "plt.xlabel('epoch', fontsize = 12)\n",
        "\n",
        "plt.legend(['Train', \"Test\"], loc='upper left')\n",
        "plt.show()"
      ]
    },
    {
      "cell_type": "markdown",
      "metadata": {
        "id": "ONjMizlw2-EI"
      },
      "source": [
        "## **Implementing the Bi-Directional LSTM**"
      ]
    },
    {
      "cell_type": "code",
      "execution_count": 309,
      "metadata": {
        "id": "AS0xVm392_Fm",
        "colab": {
          "base_uri": "https://localhost:8080/"
        },
        "outputId": "3e3c8691-abe8-44ca-db58-da9875db4961"
      },
      "outputs": [
        {
          "output_type": "stream",
          "name": "stdout",
          "text": [
            "Model: \"sequential_11\"\n",
            "_________________________________________________________________\n",
            " Layer (type)                Output Shape              Param #   \n",
            "=================================================================\n",
            " embedding_11 (Embedding)    (None, 20, 100)           2029500   \n",
            "                                                                 \n",
            " bidirectional_17 (Bidirecti  (None, 20, 64)           34048     \n",
            " onal)                                                           \n",
            "                                                                 \n",
            " bidirectional_18 (Bidirecti  (None, 20, 32)           10368     \n",
            " onal)                                                           \n",
            "                                                                 \n",
            " bidirectional_19 (Bidirecti  (None, 20, 16)           2624      \n",
            " onal)                                                           \n",
            "                                                                 \n",
            " dropout_10 (Dropout)        (None, 20, 16)            0         \n",
            "                                                                 \n",
            " dense_10 (Dense)            (None, 20, 1)             17        \n",
            "                                                                 \n",
            "=================================================================\n",
            "Total params: 2,076,557\n",
            "Trainable params: 2,076,557\n",
            "Non-trainable params: 0\n",
            "_________________________________________________________________\n"
          ]
        }
      ],
      "source": [
        "model = Sequential()\n",
        "model.add(Embedding(vocab_size, 100, input_length = train_x.shape[1]))\n",
        "model.add(Bidirectional(LSTM(32, dropout=0.2, recurrent_dropout=0, return_sequences = True, activation = \"tanh\", recurrent_activation = \"sigmoid\")))\n",
        "model.add(Bidirectional(LSTM(16, dropout=0.2, recurrent_dropout=0, return_sequences = True, activation = \"tanh\", recurrent_activation = \"sigmoid\")))\n",
        "model.add(Bidirectional(LSTM(8, dropout=0.2, recurrent_dropout=0, return_sequences = True, activation = \"tanh\", recurrent_activation = \"sigmoid\")))\n",
        "model.add(Dropout(0.5))\n",
        "model.add(Dense(1, activation='sigmoid'))\n",
        "model.summary()"
      ]
    },
    {
      "cell_type": "code",
      "execution_count": 310,
      "metadata": {
        "id": "Ra-6gljp3B-p"
      },
      "outputs": [],
      "source": [
        "model.compile(loss = 'binary_crossentropy', optimizer='adam', metrics = ['accuracy'])"
      ]
    },
    {
      "cell_type": "code",
      "execution_count": 311,
      "metadata": {
        "id": "vfm_tF1U3CCW",
        "colab": {
          "base_uri": "https://localhost:8080/"
        },
        "outputId": "c6535f1c-e4a0-44f3-c50e-c785c43b5e3d"
      },
      "outputs": [
        {
          "output_type": "stream",
          "name": "stdout",
          "text": [
            "Epoch 1/15\n",
            "1016/1016 [==============================] - 31s 23ms/step - loss: 0.5979 - accuracy: 0.6706 - val_loss: 0.5344 - val_accuracy: 0.7083\n",
            "Epoch 2/15\n",
            "1016/1016 [==============================] - 17s 17ms/step - loss: 0.4536 - accuracy: 0.7821 - val_loss: 0.5325 - val_accuracy: 0.7273\n",
            "Epoch 3/15\n",
            "1016/1016 [==============================] - 17s 17ms/step - loss: 0.3642 - accuracy: 0.8283 - val_loss: 0.5918 - val_accuracy: 0.7309\n",
            "Epoch 4/15\n",
            "1016/1016 [==============================] - 17s 17ms/step - loss: 0.2967 - accuracy: 0.8627 - val_loss: 0.6684 - val_accuracy: 0.7350\n",
            "Epoch 5/15\n",
            "1016/1016 [==============================] - 17s 17ms/step - loss: 0.2506 - accuracy: 0.8863 - val_loss: 0.7654 - val_accuracy: 0.7342\n",
            "Epoch 6/15\n",
            "1016/1016 [==============================] - 18s 18ms/step - loss: 0.2152 - accuracy: 0.9043 - val_loss: 0.7623 - val_accuracy: 0.7328\n",
            "Epoch 7/15\n",
            "1016/1016 [==============================] - 17s 17ms/step - loss: 0.1849 - accuracy: 0.9202 - val_loss: 0.9315 - val_accuracy: 0.7357\n",
            "Epoch 8/15\n",
            "1016/1016 [==============================] - 18s 17ms/step - loss: 0.1617 - accuracy: 0.9316 - val_loss: 1.0696 - val_accuracy: 0.7388\n",
            "Epoch 9/15\n",
            "1016/1016 [==============================] - 17s 17ms/step - loss: 0.1396 - accuracy: 0.9413 - val_loss: 1.0632 - val_accuracy: 0.7371\n",
            "Epoch 10/15\n",
            "1016/1016 [==============================] - 17s 17ms/step - loss: 0.1270 - accuracy: 0.9469 - val_loss: 1.0952 - val_accuracy: 0.7364\n",
            "Epoch 11/15\n",
            "1016/1016 [==============================] - 17s 17ms/step - loss: 0.1133 - accuracy: 0.9534 - val_loss: 1.3190 - val_accuracy: 0.7356\n",
            "Epoch 12/15\n",
            "1016/1016 [==============================] - 17s 17ms/step - loss: 0.1044 - accuracy: 0.9557 - val_loss: 1.3606 - val_accuracy: 0.7403\n",
            "Epoch 13/15\n",
            "1016/1016 [==============================] - 18s 18ms/step - loss: 0.0948 - accuracy: 0.9602 - val_loss: 1.3924 - val_accuracy: 0.7347\n",
            "Epoch 14/15\n",
            "1016/1016 [==============================] - 17s 17ms/step - loss: 0.0896 - accuracy: 0.9631 - val_loss: 1.2871 - val_accuracy: 0.7340\n",
            "Epoch 15/15\n",
            "1016/1016 [==============================] - 17s 17ms/step - loss: 0.0825 - accuracy: 0.9662 - val_loss: 1.4510 - val_accuracy: 0.7356\n"
          ]
        }
      ],
      "source": [
        "history = model.fit(train_x, y_train, epochs=15, validation_data=(test_x, y_test))"
      ]
    },
    {
      "cell_type": "code",
      "execution_count": 312,
      "metadata": {
        "id": "G-vxmTa94mca",
        "colab": {
          "base_uri": "https://localhost:8080/",
          "height": 407
        },
        "outputId": "189c6637-28fc-44c9-e7cb-243ae14558a8"
      },
      "outputs": [
        {
          "output_type": "display_data",
          "data": {
            "text/plain": [
              "<Figure size 576x432 with 1 Axes>"
            ],
            "image/png": "[encoded data removed]"
          },
          "metadata": {
            "needs_background": "light"
          }
        }
      ],
      "source": [
        "# summarize history for loss\n",
        "plt.figure(figsize=(8, 6))\n",
        "\n",
        "\n",
        "plt.plot(history.history['accuracy'])\n",
        "\n",
        "plt.plot(history.history['val_accuracy'])\n",
        "\n",
        "plt.title('model accuracy')\n",
        "\n",
        "plt.ylabel('Accruacy', fontsize = 12)\n",
        "\n",
        "plt.xlabel('epoch', fontsize = 12)\n",
        "\n",
        "plt.legend(['Train', \"Test\"], loc='upper left')\n",
        "\n",
        "plt.show()"
      ]
    },
    {
      "cell_type": "code",
      "source": [
        "# summarize history for loss\n",
        "plt.figure(figsize=(8, 6))\n",
        "\n",
        "plt.plot(history.history['loss'])\n",
        "\n",
        "plt.plot(history.history['val_loss'])\n",
        "\n",
        "plt.title('model loss')\n",
        "\n",
        "plt.ylabel('loss', fontsize = 14)\n",
        "\n",
        "plt.xlabel('epoch', fontsize = 12)\n",
        "\n",
        "plt.legend(['Train', \"Test\"], loc='upper left')\n",
        "plt.show()"
      ],
      "metadata": {
        "colab": {
          "base_uri": "https://localhost:8080/",
          "height": 407
        },
        "id": "ui1NTtm1Sa5o",
        "outputId": "924e65bc-2300-4ae2-9357-e2c13dbc138a"
      },
      "execution_count": 313,
      "outputs": [
        {
          "output_type": "display_data",
          "data": {
            "text/plain": [
              "<Figure size 576x432 with 1 Axes>"
            ],
            "image/png": "[encoded data removed]"
          },
          "metadata": {
            "needs_background": "light"
          }
        }
      ]
    },
    {
      "cell_type": "code",
      "source": [
        ""
      ],
      "metadata": {
        "id": "Tr6fMIZOSSmQ"
      },
      "execution_count": null,
      "outputs": []
    }
  ],
  "metadata": {
    "accelerator": "GPU",
    "colab": {
      "collapsed_sections": [],
      "name": "HateSpeechandAgression.ipynb",
      "provenance": []
    },
    "gpuClass": "standard",
    "kernelspec": {
      "display_name": "Python 3",
      "name": "python3"
    },
    "language_info": {
      "name": "python"
    }
  },
  "nbformat": 4,
  "nbformat_minor": 0
}